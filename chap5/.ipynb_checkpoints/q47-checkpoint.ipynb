{
 "cells": [
  {
   "cell_type": "code",
   "execution_count": 1,
   "metadata": {
    "scrolled": false
   },
   "outputs": [],
   "source": [
    "#cat q47.txt | cut -f 1 | sort | uniq -c | sort -nr | head -n 3\n",
    "#cat q47.txt | cut -f 1,2 | sort | uniq -c | sort -nr | head -n 3\n",
    "from q41 import parse_q41\n",
    "sentences=parse_q41()\n",
    "with open(\"q47.txt\", \"w\") as f:\n",
    "    for sentence in sentences:\n",
    "        for chunk in sentence.chunks:\n",
    "            for morph in chunk.morphs:\n",
    "                #動詞であれば\n",
    "                if morph.pos == '動詞':\n",
    "                    \n",
    "                    for i, src in enumerate(chunk.srcs):\n",
    "                        #サ変接続+をの形になっていれば\n",
    "                        if len(sentence.chunks[src].morphs) == 2 and sentence.chunks[src].morphs[0].pos1 == 'サ変接続' and sentence.chunks[src].morphs[1].surface == 'を':\n",
    "                            #述語(サ変接続+を)を取り出す\n",
    "                            predicate = ''.join([sentence.chunks[src].morphs[0].surface, sentence.chunks[src].morphs[1].surface, morph.base])\n",
    "                            cases = []\n",
    "                            modi_chunks = []\n",
    "                            #残りのかかり元文節から、助詞を探す\n",
    "                            for src_r in chunk.srcs[:i] + chunk.srcs[i + 1:]:  # 残りの係り元chunkから助詞を探す\n",
    "                                case = [morph.surface for morph in sentence.chunks[src_r].morphs if morph.pos == '助詞']\n",
    "                                if len(case) > 0:  # 助詞を含むchunkの場合は助詞と項を取得\n",
    "                                    cases = cases + case\n",
    "                                    modi_chunks.append(''.join(morph.surface for morph in sentence.chunks[src_r].morphs if morph.pos != '記号'))\n",
    "                            if len(cases) > 0:  # 助詞が1つ以上見つかった場合は重複除去後辞書順にソートし、項と合わせて出力\n",
    "                                cases = sorted(list(set(cases)))\n",
    "                                tmp1=\" \".join(cases)\n",
    "                                tmp2=\" \".join(modi_chunks)\n",
    "                                line = f'{predicate}\\t{tmp1}\\t{tmp2}'\n",
    "                                print(line, file=f)\n",
    "                            break"
   ]
  },
  {
   "cell_type": "code",
   "execution_count": null,
   "metadata": {},
   "outputs": [],
   "source": []
  }
 ],
 "metadata": {
  "kernelspec": {
   "display_name": "Python 3",
   "language": "python",
   "name": "python3"
  },
  "language_info": {
   "codemirror_mode": {
    "name": "ipython",
    "version": 3
   },
   "file_extension": ".py",
   "mimetype": "text/x-python",
   "name": "python",
   "nbconvert_exporter": "python",
   "pygments_lexer": "ipython3",
   "version": "3.8.5"
  }
 },
 "nbformat": 4,
 "nbformat_minor": 4
}
