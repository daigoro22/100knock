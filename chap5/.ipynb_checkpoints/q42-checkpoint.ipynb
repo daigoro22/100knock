{
 "cells": [
  {
   "cell_type": "code",
   "execution_count": 12,
   "metadata": {},
   "outputs": [
    {
     "name": "stdout",
     "output_type": "stream",
     "text": [
      "人工知能\t語\n",
      "じんこうちのう\t語\n",
      "AI\tエーアイとは\n",
      "エーアイとは\t語\n",
      "計算\tという\n",
      "という\t道具を\n",
      "概念と\t道具を\n",
      "コンピュータ\tという\n",
      "という\t道具を\n",
      "道具を\t用いて\n",
      "用いて\t研究する\n",
      "知能を\t研究する\n",
      "研究する\t計算機科学\n",
      "計算機科学\tの\n",
      "の\t一分野を\n",
      "一分野を\t指す\n",
      "指す\t語\n",
      "語\t研究分野とも\n",
      "言語の\t推論\n",
      "理解や\t推論\n",
      "推論\t問題解決などの\n",
      "問題解決などの\t知的行動を\n",
      "知的行動を\t代わって\n",
      "人間に\t代わって\n",
      "代わって\t行わせる\n",
      "コンピューターに\t行わせる\n",
      "行わせる\t技術または\n",
      "技術または\t研究分野とも\n",
      "計算機\tコンピュータによる\n",
      "コンピュータによる\t情報処理システムの\n",
      "知的な\t情報処理システムの\n",
      "情報処理システムの\t実現に関する\n",
      "設計や\t実現に関する\n",
      "実現に関する\t研究分野とも\n",
      "研究分野とも\tされる\n",
      "される\t\n"
     ]
    }
   ],
   "source": [
    "from q41 import parse_q41\n",
    "sentences=parse_q41()\n",
    "sentence=sentences[2]\n",
    "for chunk in sentence.chunks:\n",
    "    #かかり元\n",
    "    modifier = \"\".join([morph.surface if morph.pos != '記号' else '' for morph in chunk.morphs])\n",
    "    #かかり先\n",
    "    if int(chunk.dst)==-1:\n",
    "        modifiee=\"\"\n",
    "    else:\n",
    "        modifiee = \"\".join([morph.surface if morph.pos != '記号' else '' for morph in sentence.chunks[int(chunk.dst)].morphs])\n",
    "    print(modifier, modifiee, sep='\\t')"
   ]
  },
  {
   "cell_type": "code",
   "execution_count": null,
   "metadata": {},
   "outputs": [],
   "source": []
  }
 ],
 "metadata": {
  "kernelspec": {
   "display_name": "Python 3",
   "language": "python",
   "name": "python3"
  },
  "language_info": {
   "codemirror_mode": {
    "name": "ipython",
    "version": 3
   },
   "file_extension": ".py",
   "mimetype": "text/x-python",
   "name": "python",
   "nbconvert_exporter": "python",
   "pygments_lexer": "ipython3",
   "version": "3.8.5"
  }
 },
 "nbformat": 4,
 "nbformat_minor": 4
}
