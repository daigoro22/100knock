{
 "cells": [
  {
   "cell_type": "code",
   "execution_count": 22,
   "metadata": {
    "scrolled": false
   },
   "outputs": [],
   "source": [
    "#cat q46.txt | head -n 3\n",
    "from q41 import parse_q41\n",
    "sentences=parse_q41()\n",
    "\n",
    "#形態素を順番に見ていき、動詞であればかかり元文節を呼び出す\n",
    "#かかり元文節を中に助詞があれば、それらをリストに追加\n",
    "#また、かかり元文節のリストを作成\n",
    "#リストをタブ区切りでファイルに出力\n",
    "\n",
    "with open(\"q46.txt\", \"w\") as f:\n",
    "    #文のリストを走査\n",
    "    for sentence in sentences:\n",
    "        #文節のリストを走査\n",
    "        for chunk in sentence.chunks:\n",
    "            #形態素のリストを走査\n",
    "            for morpheme in chunk.morphs:\n",
    "                \n",
    "                #形態素が動詞であれば\n",
    "                if morpheme.pos == \"動詞\":\n",
    "                    #かかり元のリストを作成\n",
    "                    cases = []\n",
    "                    \n",
    "                    chunk_srcs=[]\n",
    "                    #かかり元となる文節について\n",
    "                    for src_idx in chunk.srcs:\n",
    "                        #各形態素について\n",
    "                        tmp=[]\n",
    "                        for  morpheme_src in sentence.chunks[src_idx].morphs:                 \n",
    "                            #助詞であれば\n",
    "                            if(morpheme_src.pos==\"助詞\"):\n",
    "                                #リストに追加\n",
    "                                cases=cases+[morpheme_src.surface]\n",
    "                                \n",
    "                            #文字列リストを連結\n",
    "                            tmp+=morpheme_src.surface\n",
    "#                            print(morpheme_src.surface)\n",
    "#                        print(tmp)\n",
    "                        #文字列に変換し、かかり元文節のリストに追加\n",
    "                        chunk_srcs=chunk_srcs+[\"\".join(tmp)]\n",
    "#                        print(chunk_srcs)\n",
    "                    #助詞のリストが空でなければ\n",
    "                    if len(cases) > 0:\n",
    "#                        print(chunk_srcs)\n",
    "                        #一旦集合に入れて重複を除去し、その後リストに直してソートする\n",
    "                        cases = sorted(list(set(cases)))\n",
    "                        cases_str=\" \".join(cases)\n",
    "                        chunk_srcs=sorted(list(set(chunk_srcs)))\n",
    "                        chunk_srcs_str=\" \".join(chunk_srcs)\n",
    "                        line = f\"{morpheme.base}\\t{cases_str}\\t{chunk_srcs_str}\"\n",
    "                        print(line, file=f)\n",
    "                        \n",
    "                    break"
   ]
  },
  {
   "cell_type": "code",
   "execution_count": null,
   "metadata": {},
   "outputs": [],
   "source": []
  }
 ],
 "metadata": {
  "kernelspec": {
   "display_name": "Python 3",
   "language": "python",
   "name": "python3"
  },
  "language_info": {
   "codemirror_mode": {
    "name": "ipython",
    "version": 3
   },
   "file_extension": ".py",
   "mimetype": "text/x-python",
   "name": "python",
   "nbconvert_exporter": "python",
   "pygments_lexer": "ipython3",
   "version": "3.8.5"
  }
 },
 "nbformat": 4,
 "nbformat_minor": 4
}
