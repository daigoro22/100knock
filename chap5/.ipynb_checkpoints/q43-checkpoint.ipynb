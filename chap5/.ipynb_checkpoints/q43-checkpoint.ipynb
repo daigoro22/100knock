{
 "cells": [
  {
   "cell_type": "code",
   "execution_count": 1,
   "metadata": {},
   "outputs": [
    {
     "name": "stdout",
     "output_type": "stream",
     "text": [
      "道具を\t用いて\n",
      "知能を\t研究する\n",
      "一分野を\t指す\n",
      "知的行動を\t代わって\n",
      "人間に\t代わって\n",
      "コンピューターに\t行わせる\n",
      "研究分野とも\tされる\n"
     ]
    }
   ],
   "source": [
    "from q41 import parse_q41\n",
    "sentences=parse_q41()\n",
    "sentence=sentences[2]\n",
    "sentence = sentences[2]\n",
    "for chunk in sentence.chunks:\n",
    "    if int(chunk.dst) != -1:\n",
    "        modifier = \"\".join([morph.surface if morph.pos != '記号' else '' for morph in chunk.morphs])\n",
    "        #かかり元文節中の品詞のリストを作成\n",
    "        modifier_pos = [morph.pos for morph in chunk.morphs]\n",
    "        \n",
    "        modifiee = \"\".join([morph.surface if morph.pos != '記号' else '' for morph in sentence.chunks[int(chunk.dst)].morphs])\n",
    "        #かかり先文節中の品詞のリストを作成\n",
    "        modifiee_pos = [morph.pos for morph in sentence.chunks[int(chunk.dst)].morphs]\n",
    "        \n",
    "        #リスト内に各品詞が存在する場合のみ\n",
    "        if \"名詞\" in modifier_pos and \"動詞\" in modifiee_pos:\n",
    "            print(modifier, modifiee, sep='\\t')"
   ]
  }
 ],
 "metadata": {
  "kernelspec": {
   "display_name": "Python 3",
   "language": "python",
   "name": "python3"
  },
  "language_info": {
   "codemirror_mode": {
    "name": "ipython",
    "version": 3
   },
   "file_extension": ".py",
   "mimetype": "text/x-python",
   "name": "python",
   "nbconvert_exporter": "python",
   "pygments_lexer": "ipython3",
   "version": "3.8.5"
  }
 },
 "nbformat": 4,
 "nbformat_minor": 4
}
