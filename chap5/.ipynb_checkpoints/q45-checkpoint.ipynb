{
 "cells": [
  {
   "cell_type": "code",
   "execution_count": 10,
   "metadata": {},
   "outputs": [],
   "source": [
    "#cat q45.txt | sort | uniq -c | sort -nr | head -n 10\n",
    "#cat q45.txt | grep \"行う\" | sort | uniq -c | sort -nr | head -n 3\n",
    "#cat q45.txt | grep \"なる\" | sort | uniq -c | sort -nr | head -n 3\n",
    "#cat q45.txt | grep \"与える\" | sort | uniq -c | sort -nr | head -n 3\n",
    "from q41 import parse_q41\n",
    "sentences=parse_q41()\n",
    "\n",
    "#形態素を順番に見ていき、動詞であればかかり元文節を呼び出す\n",
    "#かかり元文節中に助詞があれば、それらをリストに追加\n",
    "#リストをタブ区切りでファイルに出力\n",
    "\n",
    "with open(\"q45.txt\", \"w\") as f:\n",
    "    #文のリストを走査\n",
    "    for sentence in sentences:\n",
    "        #文節のリストを走査\n",
    "        for chunk in sentence.chunks:\n",
    "            #形態素のリストを走査\n",
    "            for morpheme in chunk.morphs:\n",
    "                \n",
    "                #形態素が動詞であれば\n",
    "                if morpheme.pos == \"動詞\":\n",
    "                    #かかり元のリストを作成\n",
    "                    cases = []\n",
    "                    \n",
    "                    #かかり元となる文節について\n",
    "                    for src_idxs in chunk.srcs:\n",
    "                        \n",
    "                        #各形態素について\n",
    "                        for  morpheme_src in sentence.chunks[src_idxs].morphs:                 \n",
    "                            #助詞であれば\n",
    "                            if(morpheme_src.pos==\"助詞\"):\n",
    "                                #リストに追加\n",
    "                                cases=cases+[morpheme_src.surface]\n",
    "                    #助詞のリストが空でなければ\n",
    "                    if len(cases) > 0:\n",
    "                        #一旦集合に入れて重複を除去し、その後リストに直してソートする\n",
    "                        cases = sorted(list(set(cases)))\n",
    "                        cases_str=\"\".join(cases)\n",
    "                        line = f\"{morpheme.base}\\t{cases_str}\"\n",
    "                        print(line, file=f)\n",
    "                        \n",
    "                    break"
   ]
  },
  {
   "cell_type": "code",
   "execution_count": null,
   "metadata": {},
   "outputs": [],
   "source": []
  }
 ],
 "metadata": {
  "kernelspec": {
   "display_name": "Python 3",
   "language": "python",
   "name": "python3"
  },
  "language_info": {
   "codemirror_mode": {
    "name": "ipython",
    "version": 3
   },
   "file_extension": ".py",
   "mimetype": "text/x-python",
   "name": "python",
   "nbconvert_exporter": "python",
   "pygments_lexer": "ipython3",
   "version": "3.8.5"
  }
 },
 "nbformat": 4,
 "nbformat_minor": 4
}
