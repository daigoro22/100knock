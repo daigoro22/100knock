{
 "cells": [
  {
   "cell_type": "code",
   "execution_count": 2,
   "metadata": {},
   "outputs": [
    {
     "name": "stdout",
     "output_type": "stream",
     "text": [
      "('Unites_States', 0.7877248525619507)\n",
      "<class 'tuple'>\n",
      "2\n"
     ]
    }
   ],
   "source": [
    "from gensim.models import KeyedVectors\n",
    "\n",
    "#オプションmmapで、ディスクからの読み込みを高速化?\n",
    "#公式ドキュメント:https://radimrehurek.com/gensim/models/keyedvectors.html\n",
    "model=KeyedVectors.load('q60_model.pt', mmap='r')\n",
    "word1=\"United_States\"\n",
    "word_similarity=model.most_similar(word1, topn=2)\n",
    "print(word_similarity[0])\n",
    "print(type(word_similarity[0]))\n",
    "print(len(word_similarity[0]))"
   ]
  },
  {
   "cell_type": "code",
   "execution_count": null,
   "metadata": {},
   "outputs": [],
   "source": []
  }
 ],
 "metadata": {
  "kernelspec": {
   "display_name": "Python 3",
   "language": "python",
   "name": "python3"
  },
  "language_info": {
   "codemirror_mode": {
    "name": "ipython",
    "version": 3
   },
   "file_extension": ".py",
   "mimetype": "text/x-python",
   "name": "python",
   "nbconvert_exporter": "python",
   "pygments_lexer": "ipython3",
   "version": "3.8.5"
  }
 },
 "nbformat": 4,
 "nbformat_minor": 4
}
