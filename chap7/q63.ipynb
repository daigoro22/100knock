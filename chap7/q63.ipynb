{
 "cells": [
  {
   "cell_type": "code",
   "execution_count": 3,
   "metadata": {},
   "outputs": [
    {
     "name": "stdout",
     "output_type": "stream",
     "text": [
      "['Spain', 'Athens']-['Madrid']の余弦類似度ランク\n",
      "[('Greece', 0.6898480653762817), ('Aristeidis_Grigoriadis', 0.560684859752655), ('Ioannis_Drymonakos', 0.5552908778190613), ('Greeks', 0.545068621635437), ('Ioannis_Christou', 0.5400863289833069), ('Hrysopiyi_Devetzi', 0.5248445272445679), ('Heraklio', 0.5207759737968445), ('Athens_Greece', 0.516880989074707), ('Lithuania', 0.5166866183280945), ('Iraklion', 0.5146791338920593)]\n"
     ]
    }
   ],
   "source": [
    "from gensim.models import KeyedVectors\n",
    "\n",
    "#オプションmmapで、ディスクからの読み込みを高速化?\n",
    "#公式ドキュメント:https://radimrehurek.com/gensim/models/keyedvectors.html\n",
    "model=KeyedVectors.load('q60_model.pt', mmap='r')\n",
    "positive=[\"Spain\", \"Athens\"]\n",
    "negative=[\"Madrid\"]\n",
    "print(f\"{positive}-{negative}の余弦類似度ランク\")\n",
    "print(model.most_similar(positive, negative, topn=10))#most_simmilar:余弦類似度の高い単語から順に、topn個出力"
   ]
  },
  {
   "cell_type": "code",
   "execution_count": null,
   "metadata": {},
   "outputs": [],
   "source": []
  }
 ],
 "metadata": {
  "kernelspec": {
   "display_name": "Python 3",
   "language": "python",
   "name": "python3"
  },
  "language_info": {
   "codemirror_mode": {
    "name": "ipython",
    "version": 3
   },
   "file_extension": ".py",
   "mimetype": "text/x-python",
   "name": "python",
   "nbconvert_exporter": "python",
   "pygments_lexer": "ipython3",
   "version": "3.8.5"
  }
 },
 "nbformat": 4,
 "nbformat_minor": 4
}
