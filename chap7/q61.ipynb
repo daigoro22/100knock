{
 "cells": [
  {
   "cell_type": "code",
   "execution_count": 3,
   "metadata": {},
   "outputs": [
    {
     "name": "stdout",
     "output_type": "stream",
     "text": [
      "「United_States」と「U.S.」の余弦類似度:0.7310774326324463\n"
     ]
    }
   ],
   "source": [
    "from gensim.models import KeyedVectors\n",
    "\n",
    "#オプションmmapで、ディスクからの読み込みを高速化?\n",
    "#公式ドキュメント:https://radimrehurek.com/gensim/models/keyedvectors.html\n",
    "model=KeyedVectors.load('q60_model.pt', mmap='r')\n",
    "word1=\"United_States\"\n",
    "word2=\"U.S.\"\n",
    "print(f\"「{word1}」と「{word2}」の余弦類似度:{model.similarity(word1, word2)}\")#similarity:余弦類似度を計算"
   ]
  }
 ],
 "metadata": {
  "kernelspec": {
   "display_name": "Python 3",
   "language": "python",
   "name": "python3"
  },
  "language_info": {
   "codemirror_mode": {
    "name": "ipython",
    "version": 3
   },
   "file_extension": ".py",
   "mimetype": "text/x-python",
   "name": "python",
   "nbconvert_exporter": "python",
   "pygments_lexer": "ipython3",
   "version": "3.8.5"
  }
 },
 "nbformat": 4,
 "nbformat_minor": 4
}
