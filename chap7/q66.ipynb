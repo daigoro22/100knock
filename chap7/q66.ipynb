{
 "cells": [
  {
   "cell_type": "code",
   "execution_count": 1,
   "metadata": {
    "scrolled": false
   },
   "outputs": [
    {
     "name": "stderr",
     "output_type": "stream",
     "text": [
      "/Users/takumi/opt/anaconda3/lib/python3.8/site-packages/gensim/similarities/__init__.py:15: UserWarning: The gensim.similarities.levenshtein submodule is disabled, because the optional Levenshtein package <https://pypi.org/project/python-Levenshtein/> is unavailable. Install Levenhstein (e.g. `pip install python-Levenshtein`) to suppress this warning.\n",
      "  warnings.warn(msg)\n"
     ]
    },
    {
     "name": "stdout",
     "output_type": "stream",
     "text": [
      "スピアマンの順位相関係数:0.6849564489532377\n"
     ]
    }
   ],
   "source": [
    "import numpy as np\n",
    "from scipy.stats import spearmanr\n",
    "from gensim.models import KeyedVectors\n",
    "\n",
    "model=KeyedVectors.load('q60_model.pt', mmap='r')\n",
    "\n",
    "list_human=[]\n",
    "list_model=[]\n",
    "with open(\"combined.csv\",\"r\") as f:\n",
    "    for id,line in enumerate(f):\n",
    "        \n",
    "        #ヘッダを読み飛ばす\n",
    "        if(id==0):\n",
    "            continue\n",
    "        \n",
    "        line=line.split(sep=\",\")\n",
    "        list_human.append(line[2])\n",
    "        list_model.append(model.similarity(line[0], line[1]))\n",
    "#list1=[1,2,3,4,5]\n",
    "#list2=[1,2,4,3,5]\n",
    "#list3=[1.5,2.3,3.4,4.6,5.7]\n",
    "#list4=[1.5,2.3,4.6,3.4,5.7]\n",
    "print(f\"スピアマンの順位相関係数:{spearmanr(list_human,list_model)[0]}\")\n",
    "#print(spearmanr(list1,list2))\n",
    "#print(spearmanr(list3,list4))"
   ]
  }
 ],
 "metadata": {
  "kernelspec": {
   "display_name": "Python 3",
   "language": "python",
   "name": "python3"
  },
  "language_info": {
   "codemirror_mode": {
    "name": "ipython",
    "version": 3
   },
   "file_extension": ".py",
   "mimetype": "text/x-python",
   "name": "python",
   "nbconvert_exporter": "python",
   "pygments_lexer": "ipython3",
   "version": "3.8.5"
  }
 },
 "nbformat": 4,
 "nbformat_minor": 4
}
