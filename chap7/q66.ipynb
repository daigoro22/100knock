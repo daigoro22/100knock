{
 "cells": [
  {
   "cell_type": "code",
   "execution_count": 28,
   "metadata": {
    "scrolled": false
   },
   "outputs": [
    {
     "name": "stdout",
     "output_type": "stream",
     "text": [
      "[1, 2, 3, 4, 5]\n",
      "[1, 3, 2, 4, 5]\n",
      "スピアマンの順位相関係数:SpearmanrResult(correlation=0.8999999999999998, pvalue=0.03738607346849874)\n"
     ]
    }
   ],
   "source": [
    "import numpy as np\n",
    "from scipy.stats import spearmanr\n",
    "from gensim.models import KeyedVectors\n",
    "import pandas as pd\n",
    "\n",
    "model=KeyedVectors.load('q60_model.pt', mmap='r')\n",
    "\n",
    "# df = pd.read_table(\"combined.csv\",\n",
    "#                                    header=0,#ヘッダとして0行目を指定\n",
    "# #                                   names=(\"ID\",\"TITLE\",\"URL\",\"PUBLISHER\",\"CATEGORY\",\"STORY\",\"HOSTNAME\",\"TIME\"),\n",
    "#                                    sep=\",\",\n",
    "#                                    encoding=\"UTF-8\")\n",
    "# #print(df)\n",
    "# df_sorted=df.sort_values(by=[\"Word1\",\"Human(mean)\"],ascending=[True,False])\n",
    "# print(df_sorted)\n",
    "# df_sorted.to_csv(\"combined_q66.csv\", sep=\",\",index=False)\n",
    "\n",
    "df = pd.read_table(\"combined_q66.csv\",\n",
    "                                   header=0,#ヘッダとして0行目を指定\n",
    "                                   sep=\",\",\n",
    "                                   encoding=\"UTF-8\")\n",
    "\n",
    "target_word=\"computer\"\n",
    "\n",
    "df_word=df[df['Word1']==target_word]\n",
    "\n",
    "list_human=list(range(1,len(df_word)+1))#ソート済みのファイルを利用しているため、rangeで連番のリストを作成する\n",
    "print(list_human)\n",
    "\n",
    "df_model=pd.DataFrame([[model.similarity(target_word,word2) for word2 in df_word[\"Word2\"].values.tolist()]]).T[0]\n",
    "df_model_sorted=df_model.sort_values(0,ascending=False)\n",
    "list_model=list([rank+1 for rank in df_model_sorted.index])\n",
    "print(list_model)\n",
    "\n",
    "print(f\"スピアマンの順位相関係数:{spearmanr(list_human,list_model)}\")"
   ]
  },
  {
   "cell_type": "code",
   "execution_count": null,
   "metadata": {},
   "outputs": [],
   "source": []
  }
 ],
 "metadata": {
  "kernelspec": {
   "display_name": "Python 3",
   "language": "python",
   "name": "python3"
  },
  "language_info": {
   "codemirror_mode": {
    "name": "ipython",
    "version": 3
   },
   "file_extension": ".py",
   "mimetype": "text/x-python",
   "name": "python",
   "nbconvert_exporter": "python",
   "pygments_lexer": "ipython3",
   "version": "3.8.5"
  }
 },
 "nbformat": 4,
 "nbformat_minor": 4
}
