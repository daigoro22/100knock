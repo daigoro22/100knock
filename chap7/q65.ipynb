{
 "cells": [
  {
   "cell_type": "code",
   "execution_count": 1,
   "metadata": {},
   "outputs": [
    {
     "name": "stdout",
     "output_type": "stream",
     "text": [
      "意味的アナロジー正解率: 0.7308602999210734\n",
      "文法的アナロジー正解率: 0.7400468384074942\n"
     ]
    }
   ],
   "source": [
    "with open(\"q64_out.txt\",\"r\") as f:\n",
    "    sem_cnt = 0\n",
    "    sem_cor = 0\n",
    "    syn_cnt = 0\n",
    "    syn_cor = 0\n",
    "    category=0\n",
    "    for line in f:\n",
    "        line = line.split()\n",
    "        if (line[0]==\":\"):#カテゴリを示す行であれば\n",
    "            \n",
    "            #カテゴリを変更\n",
    "            if(line[1].startswith(\"gram\")):\n",
    "                category=1\n",
    "            else:\n",
    "                category=0\n",
    "                \n",
    "        else:#それ以外の行について\n",
    "            \n",
    "            #カテゴリに基づき、意味的・文法的アナロジーの正解数、文の数をカウント\n",
    "            if(category==0):\n",
    "                sem_cnt+=1\n",
    "                if line[3] == line[4]:\n",
    "                    sem_cor += 1\n",
    "            else:\n",
    "                syn_cnt += 1\n",
    "                if line[3] == line[4]:\n",
    "                    syn_cor += 1\n",
    "\n",
    "print(f\"意味的アナロジー正解率: {sem_cor/sem_cnt}\")\n",
    "print(f\"文法的アナロジー正解率: {syn_cor/syn_cnt}\")"
   ]
  },
  {
   "cell_type": "code",
   "execution_count": null,
   "metadata": {},
   "outputs": [],
   "source": []
  }
 ],
 "metadata": {
  "kernelspec": {
   "display_name": "Python 3",
   "language": "python",
   "name": "python3"
  },
  "language_info": {
   "codemirror_mode": {
    "name": "ipython",
    "version": 3
   },
   "file_extension": ".py",
   "mimetype": "text/x-python",
   "name": "python",
   "nbconvert_exporter": "python",
   "pygments_lexer": "ipython3",
   "version": "3.8.5"
  }
 },
 "nbformat": 4,
 "nbformat_minor": 4
}
