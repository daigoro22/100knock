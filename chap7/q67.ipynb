{
 "cells": [
  {
   "cell_type": "code",
   "execution_count": 1,
   "metadata": {
    "scrolled": false
   },
   "outputs": [
    {
     "name": "stdout",
     "output_type": "stream",
     "text": [
      "cluster 0\n",
      "Iceland, Ireland, Azerbaijan, Albania, Armenia, Andorra, Italy, Ukraine, Estonia, Austria, Netherlands, Kazakhstan, Cyprus, Greece, Georgia, Croatia, Switzerland, Sweden, Slovakia, Slovenia, Serbia, Denmark, Germany, Turkey, Norway, Hungary, Finland, France, Bulgaria, Belarus, Belgium, Poland, Portugal, Macedonia, Malta, Moldova, Montenegro, Latvia, Lithuania, Liechtenstein, Romania, Luxembourg\n",
      "cluster 1\n",
      "Argentina, Aruba, Anguilla, Uruguay, Ecuador, Guernsey, Guyana, Canada, Cuba, Curaçao, Guatemala, Guadeloupe, Greenland, Grenada, Colombia, Gibraltar, Jersey, Jamaica, Spain, Suriname, Chad, Chile, Dominica, Antarctica, Nicaragua, Haiti, Panama, Bahamas, Bermuda, Paraguay, Barbados, Pitcairn, Brazil, Venezuela, Belize, Peru, Bonaire, Bolivia, Honduras, Mayotte, Martinique, Mexico, Mauritius, Monaco, Morocco, Montserrat, Réunion\n",
      "cluster 2\n",
      "Algeria, Angola, Uganda, Ethiopia, Eritrea, Ghana, Gabon, Cameroon, Gambia, Guinea, Kenya, Comoros, Congo, Congo, Zambia, Djibouti, Zimbabwe, Sudan, Swaziland, Seychelles, Senegal, Somalia, Tanzania, Tunisia, Togo, Nigeria, Namibia, Niger, Burundi, Benin, Botswana, Madagascar, Malawi, Mali, Mauritania, Mozambique, Liberia, Rwanda, Lesotho\n",
      "cluster 3\n",
      "Afghanistan, Yemen, Israel, Iraq, Iran, India, Indonesia, Uzbekistan, Egypt, Australia, Oman, Qatar, Cambodia, Kyrgyzstan, Kuwait, Singapore, Thailand, Korea, Taiwan, Tajikistan, China, Korea, Turkmenistan, Japan, Nepal, Bahrain, Pakistan, Bangladesh, Philippines, Bhutan, Macao, Malaysia, Myanmar, Mongolia, Jordan, Libya, Lebanon\n",
      "cluster 4\n",
      "Kiribati, Guam, Samoa, Tuvalu, Tokelau, Tonga, Nauru, Niue, Vanuatu, Palau, Fiji, Micronesia, Maldives\n"
     ]
    }
   ],
   "source": [
    "from sklearn.cluster import KMeans\n",
    "from gensim.models import KeyedVectors\n",
    "import numpy as np\n",
    "\n",
    "\n",
    "def country_load_q67(filename):\n",
    "    \n",
    "    model=KeyedVectors.load('q60_model.pt', mmap='r')\n",
    "    \n",
    "    with open(filename,\"r\") as f:\n",
    "        country_names=[line.split(sep=\",\")[1] for line in f if line.split(sep=\",\")[1] in model]#モデル内に存在する国名だけ、リストに追加\n",
    "        word_vec=[model[country] for country in country_names]#リストから単語ベクトルを取り出す\n",
    "    return country_names,word_vec\n",
    "\n",
    "if __name__==\"__main__\":\n",
    "    labels,vectors=country_load_q67(\"my_country_list.csv\")\n",
    "    kmeans = KMeans(n_clusters=5)\n",
    "    kmeans.fit(vectors)\n",
    "#    print(kmeans.labels_)\n",
    "    for i in range(5):\n",
    "        cluster = np.where(kmeans.labels_ == i)[0]#ラベルがiのデータ(インデックス)だけ抽出\n",
    "        print('cluster', i)\n",
    "        print(', '.join([labels[k] for k in cluster]))#クラスタ内の各データ(インデックス)について、国名を表示"
   ]
  },
  {
   "cell_type": "code",
   "execution_count": null,
   "metadata": {},
   "outputs": [],
   "source": []
  }
 ],
 "metadata": {
  "kernelspec": {
   "display_name": "Python 3",
   "language": "python",
   "name": "python3"
  },
  "language_info": {
   "codemirror_mode": {
    "name": "ipython",
    "version": 3
   },
   "file_extension": ".py",
   "mimetype": "text/x-python",
   "name": "python",
   "nbconvert_exporter": "python",
   "pygments_lexer": "ipython3",
   "version": "3.8.5"
  }
 },
 "nbformat": 4,
 "nbformat_minor": 4
}
