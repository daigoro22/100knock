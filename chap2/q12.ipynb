{
 "cells": [
  {
   "cell_type": "code",
   "execution_count": 1,
   "metadata": {
    "scrolled": true
   },
   "outputs": [],
   "source": [
    "import subprocess\n",
    "cmd1=\"cat popular-names.txt\"\n",
    "cmd2=\"cut -f 1\"\n",
    "cmd3=\"cut -f 2\"\n",
    "\n",
    "file=subprocess.run(cmd1.split(\" \"),text=True,stdout=subprocess.PIPE)\n",
    "\n",
    "#出力先をファイルに指定\n",
    "with open(\"col1.txt\",\"w\") as col1:\n",
    "    subprocess.run(cmd2.split(\" \"),text=True,input=file.stdout,stdout=col1)\n",
    "#出力先をファイルに指定    \n",
    "with open(\"col2.txt\",\"w\") as col2:\n",
    "    subprocess.run(cmd3.split(\" \"),text=True,input=file.stdout,stdout=col2)"
   ]
  },
  {
   "cell_type": "code",
   "execution_count": null,
   "metadata": {},
   "outputs": [],
   "source": []
  }
 ],
 "metadata": {
  "kernelspec": {
   "display_name": "Python 3",
   "language": "python",
   "name": "python3"
  },
  "language_info": {
   "codemirror_mode": {
    "name": "ipython",
    "version": 3
   },
   "file_extension": ".py",
   "mimetype": "text/x-python",
   "name": "python",
   "nbconvert_exporter": "python",
   "pygments_lexer": "ipython3",
   "version": "3.8.5"
  }
 },
 "nbformat": 4,
 "nbformat_minor": 4
}
