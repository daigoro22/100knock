{
 "cells": [
  {
   "cell_type": "code",
   "execution_count": null,
   "metadata": {},
   "outputs": [],
   "source": [
    "import subprocess\n",
    "import sys\n",
    "cmd1=\"cat popular-names.txt\"\n",
    "cmd2=f\"tail -n {sys.argv[1]}\"\n",
    "#catコマンドでファイルを表示し、ファイル内容をパイプに出力\n",
    "file=subprocess.run(cmd1.split(\" \"),text=True,stdout=subprocess.PIPE)\n",
    "#前コマンドの出力を入力として受け取る\n",
    "result=subprocess.run(cmd2.split(\" \"),text=True,input=file.stdout,stdout=subprocess.PIPE)\n",
    "print(result.stdout)"
   ]
  }
 ],
 "metadata": {
  "kernelspec": {
   "display_name": "Python 3",
   "language": "python",
   "name": "python3"
  },
  "language_info": {
   "codemirror_mode": {
    "name": "ipython",
    "version": 3
   },
   "file_extension": ".py",
   "mimetype": "text/x-python",
   "name": "python",
   "nbconvert_exporter": "python",
   "pygments_lexer": "ipython3",
   "version": "3.8.5"
  }
 },
 "nbformat": 4,
 "nbformat_minor": 4
}
