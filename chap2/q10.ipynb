{
 "cells": [
  {
   "cell_type": "code",
   "execution_count": 42,
   "metadata": {
    "scrolled": true
   },
   "outputs": [
    {
     "name": "stdout",
     "output_type": "stream",
     "text": [
      "    2780\n",
      "\n"
     ]
    }
   ],
   "source": [
    "import subprocess\n",
    "cmd1=\"cat popular-names.txt\"\n",
    "cmd2=\"wc -l\"\n",
    "#catコマンドでファイルを表示し、ファイル内容をパイプに出力\n",
    "file=subprocess.run(cmd1.split(\" \"),text=True,stdout=subprocess.PIPE)\n",
    "#前コマンドの出力を入力として受け取る\n",
    "result=subprocess.run(cmd2.split(\" \"),text=True,input=file.stdout,stdout=subprocess.PIPE)\n",
    "print(result.stdout)"
   ]
  }
 ],
 "metadata": {
  "kernelspec": {
   "display_name": "Python 3",
   "language": "python",
   "name": "python3"
  },
  "language_info": {
   "codemirror_mode": {
    "name": "ipython",
    "version": 3
   },
   "file_extension": ".py",
   "mimetype": "text/x-python",
   "name": "python",
   "nbconvert_exporter": "python",
   "pygments_lexer": "ipython3",
   "version": "3.8.5"
  }
 },
 "nbformat": 4,
 "nbformat_minor": 4
}
