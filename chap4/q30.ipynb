{
 "cells": [
  {
   "cell_type": "code",
   "execution_count": 3,
   "metadata": {
    "scrolled": false
   },
   "outputs": [
    {
     "name": "stdout",
     "output_type": "stream",
     "text": [
      "{'surface': '\\u3000', 'base': '\\u3000', 'pos': '記号', 'pos1': '空白'}\n",
      "{'surface': '吾輩', 'base': '吾輩', 'pos': '名詞', 'pos1': '代名詞'}\n",
      "{'surface': 'は', 'base': 'は', 'pos': '助詞', 'pos1': '係助詞'}\n",
      "{'surface': '猫', 'base': '猫', 'pos': '名詞', 'pos1': '一般'}\n",
      "{'surface': 'で', 'base': 'だ', 'pos': '助動詞', 'pos1': '*'}\n",
      "{'surface': 'ある', 'base': 'ある', 'pos': '助動詞', 'pos1': '*'}\n",
      "{'surface': '。', 'base': '。', 'pos': '記号', 'pos1': '句点'}\n"
     ]
    }
   ],
   "source": [
    "def parse_mecab():\n",
    "    \n",
    "    filename = './neko.txt.mecab'\n",
    "    sentences=[]\n",
    "    morphemes=[]\n",
    "    with open(filename, mode='r') as f:\n",
    "        for line in f:  # 1行ずつ読込\n",
    "            \n",
    "            fields = line.split('\\t')\n",
    "            if len(fields) == 2 or ( fields[0] != \"\" and  fields[0] == \"EOS\\n\"):  # 文頭以外の空白と改行文字はスキップ\n",
    "                \n",
    "                if line != 'EOS\\n':  # 文末以外であれば\n",
    "                    \n",
    "                    attr =  fields[1].split(',')#形態素解析はカンマ区切り\n",
    "                    \n",
    "                    if(attr[6]!=\"*\\n\"):#改行記号を無視\n",
    "                        \n",
    "                        morpheme= {'surface': fields[0], 'base': attr[6], 'pos': attr[0], 'pos1': attr[1]}#形態素を辞書型に格納\n",
    "                        morphemes.append(morpheme)#辞書を単語リストに追加\n",
    "                    \n",
    "                else:  # 文末：形態素リストを文リストに追加\n",
    "                    if(morphemes!=[]):\n",
    "                        sentences.append(morphemes)\n",
    "                        morphemes = []\n",
    "    return sentences\n",
    "# 確認\n",
    "if __name__ == \"__main__\":\n",
    "    a=parse_mecab()\n",
    "    for morph in a[1]:\n",
    "        print(morph)"
   ]
  }
 ],
 "metadata": {
  "kernelspec": {
   "display_name": "Python 3",
   "language": "python",
   "name": "python3"
  },
  "language_info": {
   "codemirror_mode": {
    "name": "ipython",
    "version": 3
   },
   "file_extension": ".py",
   "mimetype": "text/x-python",
   "name": "python",
   "nbconvert_exporter": "python",
   "pygments_lexer": "ipython3",
   "version": "3.8.5"
  }
 },
 "nbformat": 4,
 "nbformat_minor": 4
}
