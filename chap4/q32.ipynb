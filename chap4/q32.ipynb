{
 "cells": [
  {
   "cell_type": "code",
   "execution_count": 1,
   "metadata": {},
   "outputs": [
    {
     "name": "stdout",
     "output_type": "stream",
     "text": [
      "種類: 2300\n",
      "\n",
      "受合う\n",
      "詣る\n",
      "飲み込める\n",
      "抜ける\n",
      "届け出る\n",
      "求める\n",
      "付く\n",
      "押す\n",
      "引き揚げる\n",
      "ずれる\n"
     ]
    }
   ],
   "source": [
    "from q30 import parse_mecab\n",
    "\n",
    "ans = set()#重複を無視するため、集合型に抽出\n",
    "sentences=parse_mecab()\n",
    "\n",
    "for sentence in sentences:\n",
    "    for morph in sentence:\n",
    "        \n",
    "        if morph[\"pos\"] == '動詞':\n",
    "            ans.add(morph[\"base\"]) #集合に追加\n",
    "            \n",
    "# 確認\n",
    "print(f\"種類: {len(ans)}\\n\")\n",
    "\n",
    "for i in range(10):\n",
    "    print(ans.pop())"
   ]
  }
 ],
 "metadata": {
  "kernelspec": {
   "display_name": "Python 3",
   "language": "python",
   "name": "python3"
  },
  "language_info": {
   "codemirror_mode": {
    "name": "ipython",
    "version": 3
   },
   "file_extension": ".py",
   "mimetype": "text/x-python",
   "name": "python",
   "nbconvert_exporter": "python",
   "pygments_lexer": "ipython3",
   "version": "3.8.5"
  }
 },
 "nbformat": 4,
 "nbformat_minor": 4
}
