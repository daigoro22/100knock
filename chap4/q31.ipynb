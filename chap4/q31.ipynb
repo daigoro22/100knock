{
 "cells": [
  {
   "cell_type": "code",
   "execution_count": 8,
   "metadata": {},
   "outputs": [
    {
     "name": "stdout",
     "output_type": "stream",
     "text": [
      "種類: 3893\n",
      "\n",
      "廃せ\n",
      "見る\n",
      "喩える\n",
      "困る\n",
      "鳴かし\n",
      "倍し\n",
      "救い出し\n",
      "拾っ\n",
      "立ち至り\n",
      "逃がす\n"
     ]
    }
   ],
   "source": [
    "from q30 import parse_mecab\n",
    "\n",
    "ans = set()#重複を無視するため、集合型に抽出\n",
    "sentences=parse_mecab()\n",
    "\n",
    "for sentence in sentences:\n",
    "    for morph in sentence:\n",
    "        \n",
    "        if morph[\"pos\"] == '動詞':\n",
    "            ans.add(morph[\"surface\"]) #集合に追加\n",
    "            \n",
    "# 確認\n",
    "print(f\"種類: {len(ans)}\\n\")\n",
    "\n",
    "for i in range(10):\n",
    "    print(ans.pop())"
   ]
  }
 ],
 "metadata": {
  "kernelspec": {
   "display_name": "Python 3",
   "language": "python",
   "name": "python3"
  },
  "language_info": {
   "codemirror_mode": {
    "name": "ipython",
    "version": 3
   },
   "file_extension": ".py",
   "mimetype": "text/x-python",
   "name": "python",
   "nbconvert_exporter": "python",
   "pygments_lexer": "ipython3",
   "version": "3.8.5"
  }
 },
 "nbformat": 4,
 "nbformat_minor": 4
}
