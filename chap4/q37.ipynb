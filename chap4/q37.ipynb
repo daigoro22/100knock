{
 "cells": [
  {
   "cell_type": "code",
   "execution_count": 18,
   "metadata": {},
   "outputs": [
    {
     "data": {
      "image/png": "[encoded data removed]",
      "text/plain": [
       "<Figure size 432x288 with 1 Axes>"
      ]
     },
     "metadata": {
      "needs_background": "light"
     },
     "output_type": "display_data"
    }
   ],
   "source": [
    "from q30 import parse_mecab\n",
    "import matplotlib.pyplot as plt\n",
    "import japanize_matplotlib\n",
    "from collections import defaultdict \n",
    "dic = defaultdict(int)\n",
    "\n",
    "for sentence in parse_mecab():\n",
    "    if \"猫\" in [morph[\"surface\"] for morph in sentence]:  #文に「猫」が表層形で現れる場合だけ\n",
    "        \n",
    "        for morph in sentence:#形態素について\n",
    "            if (morph[\"surface\"]!=\"猫\" and morph[\"pos\"]!=\"記号\"):\n",
    "                dic[morph[\"base\"]] += 1  # 出現回数(基本形)をカウント\n",
    "                \n",
    "dic=sorted(dic.items(), key=lambda x: x[1], reverse=True)\n",
    "top_words=dic[0:10]\n",
    "keys = [a[0] for a in top_words]\n",
    "values = [a[1] for a in top_words]\n",
    "plt.bar(keys, values)\n",
    "plt.show()"
   ]
  },
  {
   "cell_type": "code",
   "execution_count": null,
   "metadata": {},
   "outputs": [],
   "source": []
  }
 ],
 "metadata": {
  "kernelspec": {
   "display_name": "Python 3",
   "language": "python",
   "name": "python3"
  },
  "language_info": {
   "codemirror_mode": {
    "name": "ipython",
    "version": 3
   },
   "file_extension": ".py",
   "mimetype": "text/x-python",
   "name": "python",
   "nbconvert_exporter": "python",
   "pygments_lexer": "ipython3",
   "version": "3.8.5"
  }
 },
 "nbformat": 4,
 "nbformat_minor": 4
}
