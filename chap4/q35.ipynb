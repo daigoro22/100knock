{
 "cells": [
  {
   "cell_type": "code",
   "execution_count": 2,
   "metadata": {},
   "outputs": [
    {
     "name": "stdout",
     "output_type": "stream",
     "text": [
      "<class 'collections.defaultdict'>\n",
      "<class 'list'>\n",
      "('の', 9194)\n",
      "('て', 6848)\n",
      "('は', 6420)\n",
      "('に', 6243)\n",
      "('を', 6071)\n",
      "('だ', 5972)\n",
      "('と', 5508)\n",
      "('が', 5337)\n",
      "('た', 4267)\n",
      "('する', 3657)\n",
      "('ない', 3052)\n",
      "('も', 2479)\n",
      "('ある', 2320)\n",
      "('で', 2084)\n",
      "('から', 2031)\n",
      "('いる', 1777)\n",
      "('ん', 1568)\n",
      "('か', 1529)\n",
      "('云う', 1408)\n",
      "('事', 1207)\n"
     ]
    }
   ],
   "source": [
    "from q30 import parse_mecab\n",
    "from collections import defaultdict \n",
    "\n",
    "def count_words():\n",
    "    sentences=parse_mecab()\n",
    "    ans = defaultdict(int)#初期値0の辞書\n",
    "    for sentence in sentences:\n",
    "        for morpheme in sentence:\n",
    "            if morpheme['pos'] != '記号':\n",
    "                ans[morpheme[\"base\"]] += 1#出現回数を加算\n",
    "    ans = sorted(ans.items(), key=lambda x: x[1], reverse=True)#x[0]にキー,x[1]に値が入る\n",
    "    return ans\n",
    "# 確認\n",
    "if __name__==\"__main__\":\n",
    "    dic=count_words()\n",
    "    for i in dic[:20]:\n",
    "        print(i)"
   ]
  },
  {
   "cell_type": "code",
   "execution_count": null,
   "metadata": {},
   "outputs": [],
   "source": []
  }
 ],
 "metadata": {
  "kernelspec": {
   "display_name": "Python 3",
   "language": "python",
   "name": "python3"
  },
  "language_info": {
   "codemirror_mode": {
    "name": "ipython",
    "version": 3
   },
   "file_extension": ".py",
   "mimetype": "text/x-python",
   "name": "python",
   "nbconvert_exporter": "python",
   "pygments_lexer": "ipython3",
   "version": "3.8.5"
  }
 },
 "nbformat": 4,
 "nbformat_minor": 4
}
