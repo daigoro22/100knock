{
 "cells": [
  {
   "cell_type": "code",
   "execution_count": 10,
   "metadata": {},
   "outputs": [
    {
     "name": "stdout",
     "output_type": "stream",
     "text": [
      "種類: 4062\n",
      "\n",
      "云い草\n",
      "墨堤\n",
      "当時亜典\n",
      "洋行帰り\n",
      "ゴールドスミス\n",
      "十年前学校\n",
      "一時非常\n",
      "阿倍川餅\n",
      "一冊\n",
      "私ゃ剛腹\n"
     ]
    }
   ],
   "source": [
    "from q30 import parse_mecab\n",
    "\n",
    "ans = set()#重複を無視するため、集合型に抽出\n",
    "sentences=parse_mecab()\n",
    "for sentence in sentences:\n",
    "    juncture = ''\n",
    "    n = 0\n",
    "    \n",
    "    for morph in sentence:\n",
    "        if morph['pos'] == '名詞': #連接(juncture)に連結\n",
    "            juncture = ''.join([juncture, morph['surface']])#連接(juncture)に連結\n",
    "            n+=1\n",
    "            \n",
    "        else:#名詞以外の場合\n",
    "            if(n>=2):#名詞の連接が出現している(n>2)場合\n",
    "                ans.add(juncture)\n",
    "            #初期化\n",
    "            juncture = ''\n",
    "            n=0\n",
    "            \n",
    "            \n",
    "    if n>=2:#文末に出てくる名詞の連接は別処理\n",
    "        ans.add(juncture)\n",
    "            \n",
    "# 確認\n",
    "print(f\"種類: {len(ans)}\\n\")\n",
    "for i in range(10):\n",
    "    print(ans.pop())"
   ]
  }
 ],
 "metadata": {
  "kernelspec": {
   "display_name": "Python 3",
   "language": "python",
   "name": "python3"
  },
  "language_info": {
   "codemirror_mode": {
    "name": "ipython",
    "version": 3
   },
   "file_extension": ".py",
   "mimetype": "text/x-python",
   "name": "python",
   "nbconvert_exporter": "python",
   "pygments_lexer": "ipython3",
   "version": "3.8.5"
  }
 },
 "nbformat": 4,
 "nbformat_minor": 4
}
