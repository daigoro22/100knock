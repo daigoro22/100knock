{
 "cells": [
  {
   "cell_type": "code",
   "execution_count": 19,
   "metadata": {},
   "outputs": [
    {
     "name": "stdout",
     "output_type": "stream",
     "text": [
      "種類: 4776\n",
      "\n",
      "真の珍\n",
      "大概の事\n",
      "自己の異名\n",
      "旦那の事\n",
      "八の女学生\n",
      "家の内\n",
      "吾輩の注意\n",
      "ここの前\n",
      "念の熾\n",
      "家の二\n"
     ]
    }
   ],
   "source": [
    "from q30 import parse_mecab\n",
    "\n",
    "ans = set()#重複を無視するため、集合型に抽出\n",
    "sentences=parse_mecab()\n",
    "for sentence in sentences:\n",
    "    for i in range(1, len(sentence) - 1):# 最後から2文字まで(リストのインデックスを超えないため)\n",
    "        if sentence[i - 1]['pos'] == '名詞' and sentence[i]['surface'] == 'の' and sentence[i + 1]['pos'] == '名詞':\n",
    "            ans.add(sentence[i - 1]['surface'] + sentence[i]['surface'] + sentence[i + 1]['surface'])\n",
    "            \n",
    "# 確認\n",
    "print(f\"種類: {len(ans)}\\n\")\n",
    "\n",
    "for i in range(10):\n",
    "    print(ans.pop())"
   ]
  },
  {
   "cell_type": "code",
   "execution_count": null,
   "metadata": {},
   "outputs": [],
   "source": []
  }
 ],
 "metadata": {
  "kernelspec": {
   "display_name": "Python 3",
   "language": "python",
   "name": "python3"
  },
  "language_info": {
   "codemirror_mode": {
    "name": "ipython",
    "version": 3
   },
   "file_extension": ".py",
   "mimetype": "text/x-python",
   "name": "python",
   "nbconvert_exporter": "python",
   "pygments_lexer": "ipython3",
   "version": "3.8.5"
  }
 },
 "nbformat": 4,
 "nbformat_minor": 4
}
