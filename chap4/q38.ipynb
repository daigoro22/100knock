{
 "cells": [
  {
   "cell_type": "code",
   "execution_count": 29,
   "metadata": {},
   "outputs": [
    {
     "name": "stdout",
     "output_type": "stream",
     "text": [
      "<class 'list'>\n"
     ]
    },
    {
     "data": {
      "image/png": "[encoded data removed]",
      "text/plain": [
       "<Figure size 432x288 with 1 Axes>"
      ]
     },
     "metadata": {
      "needs_background": "light"
     },
     "output_type": "display_data"
    }
   ],
   "source": [
    "from q30 import parse_mecab\n",
    "import matplotlib.pyplot as plt\n",
    "import japanize_matplotlib\n",
    "from collections import defaultdict \n",
    "dic = defaultdict(int)\n",
    "\n",
    "for sentence in parse_mecab():        \n",
    "        for morph in sentence:#形態素について\n",
    "            if (morph[\"pos\"]!=\"記号\"):\n",
    "                dic[morph[\"base\"]] += 1  # 出現回数(基本形)をカウント\n",
    "word_count=list(dic.values())\n",
    "print(type(word_count))\n",
    "#plt.hist(word_count,bins=max(word_count),range=(1,40))#出現回数について、階級は1,2,...~最大出現回数\n",
    "plt.hist(word_count,bins=100)#問題に沿う形にすると、グラフが見えなかったため、このような形とした\n",
    "plt.xlim(xmin=1, xmax=max(word_count))#最大出現回数まで表示\n",
    "plt.show()"
   ]
  },
  {
   "cell_type": "code",
   "execution_count": null,
   "metadata": {},
   "outputs": [],
   "source": []
  }
 ],
 "metadata": {
  "kernelspec": {
   "display_name": "Python 3",
   "language": "python",
   "name": "python3"
  },
  "language_info": {
   "codemirror_mode": {
    "name": "ipython",
    "version": 3
   },
   "file_extension": ".py",
   "mimetype": "text/x-python",
   "name": "python",
   "nbconvert_exporter": "python",
   "pygments_lexer": "ipython3",
   "version": "3.8.5"
  }
 },
 "nbformat": 4,
 "nbformat_minor": 4
}
