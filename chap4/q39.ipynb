{
 "cells": [
  {
   "cell_type": "code",
   "execution_count": 28,
   "metadata": {
    "scrolled": false
   },
   "outputs": [
    {
     "data": {
      "image/png": "[encoded data removed]",
      "text/plain": [
       "<Figure size 432x288 with 1 Axes>"
      ]
     },
     "metadata": {
      "needs_background": "light"
     },
     "output_type": "display_data"
    }
   ],
   "source": [
    "from q30 import parse_mecab\n",
    "import matplotlib.pyplot as plt\n",
    "import japanize_matplotlib\n",
    "from collections import defaultdict \n",
    "import math\n",
    "\n",
    "ans = defaultdict(int)\n",
    "for sentence in parse_mecab():\n",
    "    for morph in sentence:\n",
    "        if morph['pos'] != '記号':\n",
    "            ans[morph['base']] += 1\n",
    "            \n",
    "ans = sorted(ans.items(), key=lambda x: x[1], reverse=True)\n",
    "x_axis=list(range(1,len(ans)+1))\n",
    "y_axis=[a[1] for a in ans]\n",
    "plt.scatter(x_axis, y_axis)#1:90xx,2:80xx,...90xx:1のような組み合わせとなる\n",
    "plt.xscale('log')\n",
    "plt.yscale('log')\n",
    "plt.show()"
   ]
  },
  {
   "cell_type": "code",
   "execution_count": null,
   "metadata": {},
   "outputs": [],
   "source": []
  }
 ],
 "metadata": {
  "kernelspec": {
   "display_name": "Python 3",
   "language": "python",
   "name": "python3"
  },
  "language_info": {
   "codemirror_mode": {
    "name": "ipython",
    "version": 3
   },
   "file_extension": ".py",
   "mimetype": "text/x-python",
   "name": "python",
   "nbconvert_exporter": "python",
   "pygments_lexer": "ipython3",
   "version": "3.8.5"
  }
 },
 "nbformat": 4,
 "nbformat_minor": 4
}
