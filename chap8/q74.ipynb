{
 "cells": [
  {
   "cell_type": "code",
   "execution_count": 6,
   "metadata": {},
   "outputs": [
    {
     "name": "stdout",
     "output_type": "stream",
     "text": [
      "正解率（学習データ）：0.902\n",
      "正解率（評価データ）：0.884\n"
     ]
    }
   ],
   "source": [
    "from torch.utils.data import Dataset\n",
    "from torch import nn\n",
    "import torch\n",
    "from torch.utils.data import DataLoader\n",
    "from torchvision import models\n",
    "from q71 import SLPNet\n",
    "from q73 import NewsDataset\n",
    "    \n",
    "def calculate_accuracy(model, loader):\n",
    "    model.eval()\n",
    "    total = 0\n",
    "    correct = 0\n",
    "    with torch.no_grad():\n",
    "        for inputs, labels in loader:\n",
    "            outputs = model(inputs)\n",
    "            pred = torch.argmax(outputs, dim=-1)\n",
    "            total += len(inputs)\n",
    "            correct += (pred == labels).sum().item()\n",
    "            \n",
    "    return correct / total    \n",
    "\n",
    "def load_Dataloader(data_type,size):\n",
    "    X=torch.load(\"X_\"+data_type+\".pt\")\n",
    "    Y=torch.load(\"Y_\"+data_type+\".pt\")\n",
    "    dataset=NewsDataset(X,Y)\n",
    "    dataloader=DataLoader(dataset, batch_size=size, shuffle=True)\n",
    "    return dataloader\n",
    "    \n",
    "    \n",
    "if __name__==\"__main__\":\n",
    "    \n",
    "    dataloader_train = load_Dataloader(\"train\",1)\n",
    "    dataloader_valid = load_Dataloader(\"valid\",len(NewsDataset(torch.load(\"X_valid.pt\"),torch.load(\"Y_valid.pt\"))))\n",
    "    dataloader_test = load_Dataloader(\"test\",len(NewsDataset(torch.load(\"X_test.pt\"),torch.load(\"Y_test.pt\"))))\n",
    "    \n",
    "    model = SLPNet(300, 4)\n",
    "    model.load_state_dict(torch.load('model.pth'))\n",
    "\n",
    "    \n",
    "    #追加　:##----正解率を求める----##\n",
    "    acc_train = calculate_accuracy(model, dataloader_train)\n",
    "    acc_test = calculate_accuracy(model, dataloader_test)\n",
    "    \n",
    "    print(f'正解率（学習データ）：{acc_train:.3f}')\n",
    "    print(f'正解率（評価データ）：{acc_test:.3f}')"
   ]
  },
  {
   "cell_type": "code",
   "execution_count": null,
   "metadata": {},
   "outputs": [],
   "source": []
  }
 ],
 "metadata": {
  "kernelspec": {
   "display_name": "Python 3",
   "language": "python",
   "name": "python3"
  },
  "language_info": {
   "codemirror_mode": {
    "name": "ipython",
    "version": 3
   },
   "file_extension": ".py",
   "mimetype": "text/x-python",
   "name": "python",
   "nbconvert_exporter": "python",
   "pygments_lexer": "ipython3",
   "version": "3.8.5"
  }
 },
 "nbformat": 4,
 "nbformat_minor": 4
}
