{
 "cells": [
  {
   "cell_type": "code",
   "execution_count": 1,
   "metadata": {
    "scrolled": false
   },
   "outputs": [
    {
     "name": "stdout",
     "output_type": "stream",
     "text": [
      "tensor([0.0237, 0.1124, 0.1599, 0.7041], grad_fn=<SoftmaxBackward>)\n",
      "tensor([[0.0237, 0.1124, 0.1599, 0.7041],\n",
      "        [0.5878, 0.3965, 0.0034, 0.0123],\n",
      "        [0.1123, 0.2179, 0.3538, 0.3160],\n",
      "        [0.0408, 0.7156, 0.0982, 0.1454]], grad_fn=<SoftmaxBackward>)\n"
     ]
    }
   ],
   "source": [
    "from torch import nn\n",
    "import torch\n",
    "class SLPNet(nn.Module):\n",
    "    def __init__(self, input_size, output_size):\n",
    "        super().__init__()\n",
    "        self.fc = nn.Linear(input_size, output_size, bias=False)\n",
    "        nn.init.normal_(self.fc.weight, 0.0, 1.0)  # 正規乱数で重みを初期化\n",
    "        \n",
    "    def forward(self, x):\n",
    "        x = self.fc(x)\n",
    "        return x\n",
    "    \n",
    "if __name__==\"__main__\":\n",
    "    model = SLPNet(300, 4)  # 単層ニューラルネットワークの初期化\n",
    "    X_train=torch.load(\"X_train.pt\")\n",
    "    \n",
    "    #print(X_train[0])\n",
    "    \n",
    "    input1=X_train[0]\n",
    "    input2=X_train[:4]\n",
    "#    print(input1)\n",
    "#    print(input2)\n",
    "    \n",
    "    #print(model.state_dict())#ネットワークの重みを表示(4行300列の行列)\n",
    "    #print(model.fc.weight)\n",
    "    \n",
    "    y_hat_1 = torch.softmax(model(input1), dim=-1)\n",
    "    print(y_hat_1)#4次元のベクトル\n",
    "    \n",
    "    Y_hat = torch.softmax(model.forward(input2), dim=-1)\n",
    "    print(Y_hat)#4次元のベクトル"
   ]
  },
  {
   "cell_type": "code",
   "execution_count": null,
   "metadata": {},
   "outputs": [],
   "source": []
  }
 ],
 "metadata": {
  "kernelspec": {
   "display_name": "Python 3",
   "language": "python",
   "name": "python3"
  },
  "language_info": {
   "codemirror_mode": {
    "name": "ipython",
    "version": 3
   },
   "file_extension": ".py",
   "mimetype": "text/x-python",
   "name": "python",
   "nbconvert_exporter": "python",
   "pygments_lexer": "ipython3",
   "version": "3.8.5"
  }
 },
 "nbformat": 4,
 "nbformat_minor": 4
}
