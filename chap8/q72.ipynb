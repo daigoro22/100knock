{
 "cells": [
  {
   "cell_type": "code",
   "execution_count": 1,
   "metadata": {},
   "outputs": [
    {
     "name": "stdout",
     "output_type": "stream",
     "text": [
      "損失: 1.7287\n",
      "勾配:\n",
      "tensor([[ 0.0512, -0.0087, -0.0317,  ..., -0.0113,  0.0074, -0.0141],\n",
      "        [-0.0197,  0.0033,  0.0122,  ...,  0.0044, -0.0028,  0.0054],\n",
      "        [-0.0266,  0.0045,  0.0165,  ...,  0.0059, -0.0038,  0.0073],\n",
      "        [-0.0049,  0.0008,  0.0030,  ...,  0.0011, -0.0007,  0.0013]])\n",
      "損失: 1.0764\n",
      "勾配:\n",
      "tensor([[ 0.0231,  0.0050, -0.0200,  ..., -0.0106, -0.0111,  0.0170],\n",
      "        [-0.0048,  0.0034,  0.0055,  ...,  0.0028,  0.0029, -0.0004],\n",
      "        [-0.0339, -0.0398,  0.0316,  ...,  0.0068,  0.0131, -0.0475],\n",
      "        [ 0.0156,  0.0313, -0.0172,  ...,  0.0010, -0.0049,  0.0309]])\n"
     ]
    }
   ],
   "source": [
    "from torch import nn\n",
    "import torch\n",
    "from q71 import SLPNet    \n",
    "model = SLPNet(300, 4)  # 単層ニューラルネットワークの初期化\n",
    "X_train=torch.load(\"X_train.pt\")\n",
    "Y_train=torch.load(\"Y_train.pt\")\n",
    "\n",
    "criterion = nn.CrossEntropyLoss()\n",
    "l_1 = criterion(model(X_train[:1]), Y_train[:1])\n",
    "model.zero_grad()  # 勾配をゼロで初期化\n",
    "l_1.backward()  # 勾配を計算\n",
    "print(f'損失: {l_1:.4f}')\n",
    "print(f'勾配:\\n{model.fc.weight.grad}')#300行4列の行列(クラス1に対する勾配,クラス2に対する勾配,クラス3に対する勾配,クラス4に対する勾配)\n",
    "\n",
    "l = criterion(model(X_train[:4]), Y_train[:4])\n",
    "model.zero_grad()\n",
    "l.backward()\n",
    "print(f'損失: {l:.4f}')\n",
    "print(f'勾配:\\n{model.fc.weight.grad}')"
   ]
  },
  {
   "cell_type": "code",
   "execution_count": null,
   "metadata": {},
   "outputs": [],
   "source": []
  }
 ],
 "metadata": {
  "kernelspec": {
   "display_name": "Python 3",
   "language": "python",
   "name": "python3"
  },
  "language_info": {
   "codemirror_mode": {
    "name": "ipython",
    "version": 3
   },
   "file_extension": ".py",
   "mimetype": "text/x-python",
   "name": "python",
   "nbconvert_exporter": "python",
   "pygments_lexer": "ipython3",
   "version": "3.8.5"
  }
 },
 "nbformat": 4,
 "nbformat_minor": 4
}
