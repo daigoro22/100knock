{
 "cells": [
  {
   "cell_type": "code",
   "execution_count": 1,
   "metadata": {
    "scrolled": false
   },
   "outputs": [],
   "source": [
    "from gensim.models import KeyedVectors\n",
    "import pandas as pd\n",
    "import re\n",
    "import torch\n",
    "#from tqdm.notebook import trange\n",
    "def load_data(filename):\n",
    "    df=pd.read_table(filename,\n",
    "                                   sep=\"\\t\",\n",
    "                                   encoding=\"UTF-8\")\n",
    "    return df\n",
    "\n",
    "def title_to_vec(title):\n",
    "    title=title.lower()\n",
    "    title=re.sub('[^\\w\\s]',\"\",title)#記号類を削除\n",
    "    title=re.sub(\" [0-9]+\",\" 0\",title)#数字を0に置き換え\n",
    "    title=re.sub(\" [0-9]+(.+?) \",\" \\\\1 \",title)#3-appleのような表現をappleに置き換え\n",
    "    title=re.sub(\"million|thouzand|billion|trillion|quadrillion\",\"0\",title)#位を示す数詞を0に置き換え\n",
    "    \n",
    "    words=[word for word in title.split() if word in model]#モデル内に存在する国名だけ、リストに追加\n",
    "    word_vec=[model[word] for word in words]#リストから単語ベクトルを取り出す\n",
    "    \n",
    "    return torch.tensor(sum(word_vec) / len(word_vec))\n",
    "\n",
    "if __name__==\"__main__\":\n",
    "    model=KeyedVectors.load('q60_model.pt', mmap='r')\n",
    "    df_train=load_data(\"train-2.txt\")\n",
    "    df_valid=load_data(\"valid-2.txt\")\n",
    "    df_test=load_data(\"test-2.txt\")\n",
    "    \n",
    "    \n",
    "    X_train = torch.stack([title_to_vec(text) for text in df_train['TITLE']])\n",
    "    torch.save(X_train, 'X_train2.pt')\n",
    "    X_valid = torch.stack([title_to_vec(text) for text in df_valid['TITLE']])\n",
    "    torch.save(X_valid, 'X_valid2.pt')\n",
    "    X_test = torch.stack([title_to_vec(text) for text in df_test['TITLE']])\n",
    "    torch.save(X_test, 'X_test2.pt')\n",
    "    \n",
    "    category_to_int={\"b\":0,\"t\":1,\"e\":2,\"m\":3}\n",
    "    \n",
    "    \n",
    "    \n",
    "    Y_train=torch.tensor([category_to_int[category] for category in df_train[\"CATEGORY\"]])\n",
    "    torch.save(Y_train, 'Y_train2.pt')\n",
    "    Y_valid=torch.tensor([category_to_int[category] for category in df_valid[\"CATEGORY\"]])\n",
    "    torch.save(Y_valid, 'Y_valid2.pt')\n",
    "    Y_test=torch.tensor([category_to_int[category] for category in df_test[\"CATEGORY\"]])\n",
    "    torch.save(Y_test, 'Y_test2.pt')\n",
    "#    title_list=df_test.TITLE.values.tolist()\n",
    "#    for i,title in enumerate(title_list):\n",
    "        \n",
    "            \n",
    "#            print(word)\n",
    "#    df_test.to_csv(\"test2.txt\", sep=\"\\t\",index=False)\n",
    "    \n",
    "#print(model['United_States'])"
   ]
  },
  {
   "cell_type": "code",
   "execution_count": null,
   "metadata": {},
   "outputs": [],
   "source": []
  }
 ],
 "metadata": {
  "kernelspec": {
   "display_name": "Python 3",
   "language": "python",
   "name": "python3"
  },
  "language_info": {
   "codemirror_mode": {
    "name": "ipython",
    "version": 3
   },
   "file_extension": ".py",
   "mimetype": "text/x-python",
   "name": "python",
   "nbconvert_exporter": "python",
   "pygments_lexer": "ipython3",
   "version": "3.8.5"
  }
 },
 "nbformat": 4,
 "nbformat_minor": 4
}
