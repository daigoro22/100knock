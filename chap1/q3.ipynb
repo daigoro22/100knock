{
 "cells": [
  {
   "cell_type": "code",
   "execution_count": 1,
   "metadata": {
    "scrolled": true
   },
   "outputs": [
    {
     "name": "stdout",
     "output_type": "stream",
     "text": [
      "[3, 1, 4, 1, 5, 9, 2, 6, 5, 3, 5, 8, 9, 7, 9]\n"
     ]
    }
   ],
   "source": [
    "#reよりregexの方が賢い\n",
    "import regex as re\n",
    "def q3(str_arg):\n",
    "    #文字クラスの方が、今回は早い\n",
    "    #文字列パターンの時は、orごとに状態を生成する。\n",
    "    #文字クラスを用いた場合、今回の場合であれば、[,または.]の時用の状態を1つ生成する\n",
    "    #よってこの場合、生成する状態の数が2つから1つに減る\n",
    "    words=re.sub(\"[,.]\",'',str_arg).split()\n",
    "    #リストの置換方法は,インデックス指定か、リスト内包表記を用いる\n",
    "    return [len(word) for word in words]\n",
    "print(q3(\"Now I need a drink, alcoholic of course, after the heavy lectures involving quantum mechanics.\"))"
   ]
  },
  {
   "cell_type": "code",
   "execution_count": null,
   "metadata": {},
   "outputs": [],
   "source": []
  }
 ],
 "metadata": {
  "kernelspec": {
   "display_name": "Python 3",
   "language": "python",
   "name": "python3"
  },
  "language_info": {
   "codemirror_mode": {
    "name": "ipython",
    "version": 3
   },
   "file_extension": ".py",
   "mimetype": "text/x-python",
   "name": "python",
   "nbconvert_exporter": "python",
   "pygments_lexer": "ipython3",
   "version": "3.8.5"
  }
 },
 "nbformat": 4,
 "nbformat_minor": 4
}
