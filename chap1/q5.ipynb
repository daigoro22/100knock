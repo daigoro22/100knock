{
 "cells": [
  {
   "cell_type": "code",
   "execution_count": 6,
   "metadata": {},
   "outputs": [
    {
     "name": "stdout",
     "output_type": "stream",
     "text": [
      "['I ', ' a', 'am', 'm ', ' a', 'an', 'n ', ' N', 'NL', 'LP', 'Pe', 'er']\n",
      "[['I', 'am'], ['am', 'an'], ['an', 'NLPer']]\n"
     ]
    }
   ],
   "source": [
    "def q5(lst,n):\n",
    "    #結果(n-gram)を格納するリスト\n",
    "    result=[]\n",
    "    #1要素ずつ,後にn要素取れなくなるまでループを行う\n",
    "    for idx in range(0,len(lst)-n+1):\n",
    "        #idxからn要素を取り出し,結果に格納する\n",
    "        result.append(lst[idx:idx+n])\n",
    "    return result\n",
    "\n",
    "sentence=\"I am an NLPer\"\n",
    "\n",
    "#文字bi-gram\n",
    "print(q5(sentence,2))\n",
    "#単語bi-gram\n",
    "print(q5(sentence.split(),2))"
   ]
  }
 ],
 "metadata": {
  "kernelspec": {
   "display_name": "Python 3",
   "language": "python",
   "name": "python3"
  },
  "language_info": {
   "codemirror_mode": {
    "name": "ipython",
    "version": 3
   },
   "file_extension": ".py",
   "mimetype": "text/x-python",
   "name": "python",
   "nbconvert_exporter": "python",
   "pygments_lexer": "ipython3",
   "version": "3.8.5"
  }
 },
 "nbformat": 4,
 "nbformat_minor": 4
}
