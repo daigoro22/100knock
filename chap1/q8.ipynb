{
 "cells": [
  {
   "cell_type": "code",
   "execution_count": 6,
   "metadata": {},
   "outputs": [
    {
     "name": "stdout",
     "output_type": "stream",
     "text": [
      "元の文字列:I am Matsuno\n",
      "暗号化結果:I zn Mzghfml\n",
      "復号化結果:I am Matsuno\n"
     ]
    }
   ],
   "source": [
    "def cipher(str_arg):\n",
    "    encrypted=\"\"\n",
    "    decrypted=\"\"\n",
    "    \n",
    "    print(f\"元の文字列:{str_arg}\")\n",
    "    \n",
    "    #暗号化\n",
    "    for idx,character in enumerate(str_arg):\n",
    "        if(character.)islower():\n",
    "            encrypted+=(chr(219-ord(character)))\n",
    "        else:\n",
    "            encrypted+=(character)\n",
    "            \n",
    "    print(f\"暗号化結果:{encrypted}\")\n",
    "            \n",
    "    #復号化\n",
    "    for idx,character in enumerate(encrypted):\n",
    "        \n",
    "        #unicodeでは0x61(97)～0x7A(219)までが小文字→小文字は暗号化しても小文字のまま\n",
    "        if(character.islower()):\n",
    "            decrypted+=(chr(219-ord(character)))\n",
    "        else:\n",
    "            decrypted+=(character)  \n",
    "            \n",
    "    print(f\"復号化結果:{decrypted}\")\n",
    "\n",
    "cipher(\"I am Matsuno\")"
   ]
  },
  {
   "cell_type": "code",
   "execution_count": null,
   "metadata": {},
   "outputs": [],
   "source": []
  }
 ],
 "metadata": {
  "kernelspec": {
   "display_name": "Python 3",
   "language": "python",
   "name": "python3"
  },
  "language_info": {
   "codemirror_mode": {
    "name": "ipython",
    "version": 3
   },
   "file_extension": ".py",
   "mimetype": "text/x-python",
   "name": "python",
   "nbconvert_exporter": "python",
   "pygments_lexer": "ipython3",
   "version": "3.8.5"
  }
 },
 "nbformat": 4,
 "nbformat_minor": 4
}
