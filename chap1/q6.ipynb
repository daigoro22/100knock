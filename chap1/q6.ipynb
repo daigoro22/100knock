{
 "cells": [
  {
   "cell_type": "code",
   "execution_count": 1,
   "metadata": {},
   "outputs": [
    {
     "name": "stdout",
     "output_type": "stream",
     "text": [
      "['I ', ' a', 'am', 'm ', ' a', 'an', 'n ', ' N', 'NL', 'LP', 'Pe', 'er']\n",
      "[['I', 'am'], ['am', 'an'], ['an', 'NLPer']]\n",
      "{'se', 'ad', 'ap', 'ph', 'ar', 'ra', 'gr', 'ag', 'pa', 'di', 'is'}\n",
      "{'ar', 'ra', 'pa', 'ap'}\n",
      "{'ad', 'se', 'di', 'is'}\n",
      "{'gr', 'ag', 'ph'}\n",
      "X中にseは存在する\n",
      "Y中にseは存在しない\n"
     ]
    }
   ],
   "source": [
    "from q5 import q5 as n_gram\n",
    "\n",
    "def q6(str_A,str_B,calc):\n",
    "    set_A=set(n_gram(str_A,2))\n",
    "    set_B=set(n_gram(str_B,2))\n",
    "#    for element in n_gram(str_A,2):\n",
    " #       set_A.add(element)\n",
    "  #  for element in n_gram(str_B,2):\n",
    "#        set_B.add(element)\n",
    "        \n",
    "    if(calc==\"&\"):\n",
    "        return set_A&set_B\n",
    "    elif(calc==\"-\"):\n",
    "        return set_A-set_B\n",
    "    elif(calc==\"|\"):\n",
    "        return set_A|set_B\n",
    "    \n",
    "in_X=\"paraparaparadise\"\n",
    "in_Y=\"paragraph\"\n",
    "\n",
    "#和集合\n",
    "print(q6(in_X,in_Y,\"|\"))\n",
    "#積集合\n",
    "print(q6(in_X,in_Y,\"&\"))\n",
    "#差集合X-Y\n",
    "print(q6(in_X,in_Y,\"-\"))\n",
    "#差集合Y-X\n",
    "print(q6(in_Y,in_X,\"-\"))\n",
    "\n",
    "if \"se\" in n_gram(in_X,2):\n",
    "    print(\"X中にseは存在する\")\n",
    "else:\n",
    "    print(\"Y中にseは存在しない\")\n",
    "if \"se\" in n_gram(in_Y,2):\n",
    "    print(\"Y中にseは存在する\")\n",
    "else:\n",
    "    print(\"Y中にseは存在しない\")"
   ]
  },
  {
   "cell_type": "code",
   "execution_count": null,
   "metadata": {},
   "outputs": [],
   "source": []
  }
 ],
 "metadata": {
  "kernelspec": {
   "display_name": "Python 3",
   "language": "python",
   "name": "python3"
  },
  "language_info": {
   "codemirror_mode": {
    "name": "ipython",
    "version": 3
   },
   "file_extension": ".py",
   "mimetype": "text/x-python",
   "name": "python",
   "nbconvert_exporter": "python",
   "pygments_lexer": "ipython3",
   "version": "3.8.5"
  }
 },
 "nbformat": 4,
 "nbformat_minor": 4
}
