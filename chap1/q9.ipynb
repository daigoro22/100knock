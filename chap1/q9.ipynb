{
 "cells": [
  {
   "cell_type": "code",
   "execution_count": 31,
   "metadata": {},
   "outputs": [
    {
     "name": "stdout",
     "output_type": "stream",
     "text": [
      "I cu’olndt blieeve that I cuold alalutcy unnrstaedd what I was rieandg : the ponmhaneel power of the haumn mind .\n"
     ]
    }
   ],
   "source": [
    "import random\n",
    "def q9(str_arg):\n",
    "    result=\"\"\n",
    "    words=str_arg.split()\n",
    "    \n",
    "    for word in words:\n",
    "        result+=shuffle_word(word)\n",
    "        result+=\" \"\n",
    "        \n",
    "    #最後に入る余分なスペースを無視\n",
    "    return result[:-1]\n",
    "def shuffle_word(word):\n",
    "    shaffled=\"\"\n",
    "    if(len(word)>4):\n",
    "        shaffled+=word[0]\n",
    "        shaffled+=\"\".join(random.sample(word[1:-1],len(word[1:-1])))\n",
    "        shaffled+=word[-1]\n",
    "        return shaffled\n",
    "    else:\n",
    "        return word\n",
    "#print(shuffle_word(\"ABC\"))\n",
    "\n",
    "print(q9(\"I couldn’t believe that I could actually understand what I was reading : the phenomenal power of the human mind .\"))"
   ]
  },
  {
   "cell_type": "code",
   "execution_count": null,
   "metadata": {},
   "outputs": [],
   "source": []
  }
 ],
 "metadata": {
  "kernelspec": {
   "display_name": "Python 3",
   "language": "python",
   "name": "python3"
  },
  "language_info": {
   "codemirror_mode": {
    "name": "ipython",
    "version": 3
   },
   "file_extension": ".py",
   "mimetype": "text/x-python",
   "name": "python",
   "nbconvert_exporter": "python",
   "pygments_lexer": "ipython3",
   "version": "3.8.5"
  }
 },
 "nbformat": 4,
 "nbformat_minor": 4
}
