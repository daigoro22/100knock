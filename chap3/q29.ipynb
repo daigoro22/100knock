{
 "cells": [
  {
   "cell_type": "code",
   "execution_count": 15,
   "metadata": {},
   "outputs": [
    {
     "name": "stdout",
     "output_type": "stream",
     "text": [
      "https://upload.wikimedia.org/wikipedia/commons/a/ae/Flag_of_the_United_Kingdom.svg\n"
     ]
    }
   ],
   "source": [
    "import re\n",
    "import requests\n",
    "from q25 import templates_extraction\n",
    "def get_file():\n",
    "    dic=templates_extraction()\n",
    "    file_name=dic[\"国旗画像\"].replace(\" \",\"_\")\n",
    "    \n",
    "    #mediawikiのAPIを使用\n",
    "    #action:操作\n",
    "    #title:ファイル名\n",
    "    #prop:取得する構成要素\n",
    "    #iiprop:どのファイル情報を取得するか\n",
    "    #format:出力フォーマット\n",
    "    url = 'https://commons.wikimedia.org/w/api.php?action=query&titles=File:' +file_name+ '&prop=imageinfo&iiprop=url&format=json'\n",
    "    result = requests.get(url)\n",
    "    \n",
    "    #取得したjsonファイルをテキスト形式に変換し、url部分を取得\n",
    "    return re.search(r'\"url\":\"(.+?)\"', result.text).group(1)\n",
    "\n",
    "if __name__==\"__main__\":\n",
    "    print(get_file())"
   ]
  }
 ],
 "metadata": {
  "kernelspec": {
   "display_name": "Python 3",
   "language": "python",
   "name": "python3"
  },
  "language_info": {
   "codemirror_mode": {
    "name": "ipython",
    "version": 3
   },
   "file_extension": ".py",
   "mimetype": "text/x-python",
   "name": "python",
   "nbconvert_exporter": "python",
   "pygments_lexer": "ipython3",
   "version": "3.8.5"
  }
 },
 "nbformat": 4,
 "nbformat_minor": 4
}
