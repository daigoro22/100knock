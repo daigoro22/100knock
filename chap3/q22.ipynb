{
 "cells": [
  {
   "cell_type": "code",
   "execution_count": 19,
   "metadata": {},
   "outputs": [
    {
     "name": "stdout",
     "output_type": "stream",
     "text": [
      "イギリス\n",
      "イギリス連邦加盟国\n",
      "英連邦王国\n",
      "G8加盟国\n",
      "欧州連合加盟国\n",
      "海洋国家\n",
      "現存する君主国\n",
      "島国\n",
      "1801年に成立した国家・領域\n"
     ]
    }
   ],
   "source": [
    "import re\n",
    "from q21 import category_extraction\n",
    "\n",
    "def category_name_extraction():\n",
    "    lines=category_extraction()\n",
    "    #(パターン)で、グループ化とキャプチャを行う\n",
    "    #(?:パターン)で、グループ化のみを行う\n",
    "    result=\"\\n\".join(re.findall(r\"^\\[\\[Category:(.*?)(?:\\|.)?\\]\\]$\",lines,flags=re.MULTILINE))\n",
    "    return result\n",
    "if __name__ == \"__main__\":\n",
    "    print(category_name_extraction())"
   ]
  },
  {
   "cell_type": "code",
   "execution_count": null,
   "metadata": {},
   "outputs": [],
   "source": []
  }
 ],
 "metadata": {
  "kernelspec": {
   "display_name": "Python 3",
   "language": "python",
   "name": "python3"
  },
  "language_info": {
   "codemirror_mode": {
    "name": "ipython",
    "version": 3
   },
   "file_extension": ".py",
   "mimetype": "text/x-python",
   "name": "python",
   "nbconvert_exporter": "python",
   "pygments_lexer": "ipython3",
   "version": "3.8.5"
  }
 },
 "nbformat": 4,
 "nbformat_minor": 4
}
