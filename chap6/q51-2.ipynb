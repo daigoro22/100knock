{
 "cells": [
  {
   "cell_type": "code",
   "execution_count": 26,
   "metadata": {
    "scrolled": false
   },
   "outputs": [],
   "source": [
    "#参考サイト\n",
    "#https://qiita.com/ground0state/items/155b77f4c07e1a509a14\n",
    "import pandas as pd\n",
    "import re\n",
    "from sklearn.model_selection import train_test_split\n",
    "from sklearn.feature_extraction.text import TfidfVectorizer\n",
    "#カンマ区切りはread_csv()、タブ区切りはread_tabel()を使用\n",
    "def load_data(filename):\n",
    "    df=pd.read_table(filename,\n",
    "                                   sep=\"\\t\",\n",
    "                                   encoding=\"UTF-8\")\n",
    "    return df\n",
    "\n",
    "if __name__==\"__main__\":\n",
    "    df_train=load_data(\"train.txt\")\n",
    "    df_valid=load_data(\"valid.txt\")\n",
    "    df_test=load_data(\"test.txt\")\n",
    "    \n",
    "    df = pd.concat([df_train, df_valid, df_test], axis=0)\n",
    "    df.reset_index(drop=True, inplace=True)\n",
    "    title_list=df.TITLE.values.tolist()\n",
    "    for i,title in enumerate(title_list):\n",
    "        title=title.lower()\n",
    "        title=re.sub('[^\\w\\s]',\"\",title)#記号類を削除\n",
    "        title=re.sub(\" [0-9]+\",\" 0\",title)#数字を0に置き換え\n",
    "        title=re.sub(\" [0-9]+(.+?) \",\" \\\\1 \",title)#3-appleのような表現をappleに置き換え\n",
    "        title=re.sub(\"million|thouzand|billion|trillion|quadrillion\",\"0\",title)#位を示す数詞を0に置き換え\n",
    "        title_list[i]=title\n",
    "    df[\"TITLE\"]=title_list#\n",
    "    \n",
    "    train_and_valid=df[:len(df_train)+len(df_valid)]\n",
    "    test = df[len(df_train) + len(df_valid):]\n",
    "    \n",
    "    vec_tfidf = TfidfVectorizer(min_df=0.001)\n",
    "    \n",
    "    X_train_valid = vec_tfidf.fit_transform(train_and_valid['TITLE'])  # trainとvalidのみを用いる\n",
    "    X_test = vec_tfidf.transform(test['TITLE'])#testもベクトル化\n",
    "    \n",
    "    X_train_valid = pd.DataFrame(X_train_valid.toarray(), columns=vec_tfidf.get_feature_names())\n",
    "    X_test = pd.DataFrame(X_test.toarray(), columns=vec_tfidf.get_feature_names())\n",
    "    \n",
    "    # データの分割\n",
    "    X_train = X_train_valid[:len(df_train)]\n",
    "    X_valid = X_train_valid[len(df_train):]\n",
    "    \n",
    "    # データの保存\n",
    "    X_train.to_csv(\"train.feature.txt\", sep='\\t', index=False)\n",
    "    X_valid.to_csv(\"valid.feature.txt\", sep='\\t', index=False)\n",
    "    X_test.to_csv(\"test.feature.txt\", sep='\\t', index=False)"
   ]
  },
  {
   "cell_type": "code",
   "execution_count": null,
   "metadata": {},
   "outputs": [],
   "source": []
  }
 ],
 "metadata": {
  "kernelspec": {
   "display_name": "Python 3",
   "language": "python",
   "name": "python3"
  },
  "language_info": {
   "codemirror_mode": {
    "name": "ipython",
    "version": 3
   },
   "file_extension": ".py",
   "mimetype": "text/x-python",
   "name": "python",
   "nbconvert_exporter": "python",
   "pygments_lexer": "ipython3",
   "version": "3.8.5"
  }
 },
 "nbformat": 4,
 "nbformat_minor": 4
}
