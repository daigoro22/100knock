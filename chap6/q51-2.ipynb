{
 "cells": [
  {
   "cell_type": "code",
   "execution_count": 62,
   "metadata": {
    "scrolled": false
   },
   "outputs": [],
   "source": [
    "#参考サイト\n",
    "#https://qiita.com/ground0state/items/155b77f4c07e1a509a14\n",
    "import pandas as pd\n",
    "import re\n",
    "from sklearn.model_selection import train_test_split\n",
    "from sklearn.feature_extraction.text import TfidfVectorizer\n",
    "#カンマ区切りはread_csv()、タブ区切りはread_tabel()を使用\n",
    "df = pd.read_table(\"newsCorpora.csv\",\n",
    "                                   header=None,\n",
    "                                   names=(\"ID\",\"TITLE\",\"URL\",\"PUBLISHER\",\"CATEGORY\",\"STORY\",\"HOSTNAME\",\"TIME\"),\n",
    "                                   sep=\"\\t\",\n",
    "                                   encoding=\"UTF-8\")\n",
    "instance=df.query(\"PUBLISHER in ['Reuters','Huffington Post','Businessweek','Contactmusic.com','Daily Mail']\")\n",
    "instance_loc=instance.loc[:,[\"CATEGORY\",\"TITLE\"]]\n",
    "category_list=instance_loc.CATEGORY.values.tolist()\n",
    "title_list=instance_loc.TITLE.values.tolist()\n",
    "#print(title_list)\n",
    "code_regex = re.compile('[!\"#$%&\\'\\\\\\\\()*+,-./:;<=>?@[\\\\]^_`{|}~「」〔〕“”〈〉『』【】＆＊・（）＄＃＠。、？！｀＋￥％]')\n",
    "#print(title_list)\n",
    "for i,title in enumerate(title_list):\n",
    "    title=title.lower()\n",
    "    title=re.sub('[!\"#$%&\\'\\\\\\\\()*+,-./:;<=>?@[\\\\]^_`{|}~「」〔〕“”〈〉『』【】＆＊・（）＄＃＠。、？！｀＋￥％]',\"\",title)#記号類を削除\n",
    "    title=re.sub(\" [0-9]+\",\" 0\",title)#数字を0に置き換え\n",
    "    title=re.sub(\" [0-9]+(.+?) \",\" \\\\1 \",title)#3-appleのような表現をappleに置き換え\n",
    "    title=re.sub(\"million|thouzand|billion|trillion|quadrillion\",\"0\",title)#位を示す数詞を0に置き換え\n",
    "    title_list[i]=title\n",
    "        #word=re.sub(\"[0-9]+\",\"0\",word)\n",
    "\n",
    "df[\"CATEGORY\"]=category_list\n",
    "train,valid=train_test_split(df,test_size=0.20)#訓練データと検証データに分割\n",
    "valid,test=train_test_split(valid,test_size=0.25)#検証データを、検証データと評価データに再分割\n",
    "\n",
    "#余分なものをつけずに出力\n",
    "train.to_csv(\"train.feature.txt\", sep=\"\\t\",header=False,index=False)\n",
    "valid.to_csv(\"valid.feature.txt\", sep=\"\\t\",header=False,index=False)\n",
    "test.to_csv(\"test.feature.txt\", sep=\"\\t\",header=False,index=False)\n",
    "\n",
    "#print(valid)\n",
    "#print(df.query(\"PUBLISHER in ['Reuters','Huffington Post','Businessweek','Contactmusic.com','Daily Mail']\"))\n",
    "#ID タイトル URL 情報元 カテゴリ  ストーリー URLホスト名 日付"
   ]
  },
  {
   "cell_type": "code",
   "execution_count": null,
   "metadata": {},
   "outputs": [],
   "source": []
  }
 ],
 "metadata": {
  "kernelspec": {
   "display_name": "Python 3",
   "language": "python",
   "name": "python3"
  },
  "language_info": {
   "codemirror_mode": {
    "name": "ipython",
    "version": 3
   },
   "file_extension": ".py",
   "mimetype": "text/x-python",
   "name": "python",
   "nbconvert_exporter": "python",
   "pygments_lexer": "ipython3",
   "version": "3.8.5"
  }
 },
 "nbformat": 4,
 "nbformat_minor": 4
}
