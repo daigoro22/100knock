{
 "cells": [
  {
   "cell_type": "code",
   "execution_count": 1,
   "metadata": {},
   "outputs": [
    {
     "name": "stdout",
     "output_type": "stream",
     "text": [
      "['b' 'b' 'e' ... 'e' 'e' 'm']\n",
      "[[0.75303297 0.15488938 0.04385914 0.04821851]\n",
      " [0.90082815 0.00752868 0.05228633 0.03935684]\n",
      " [0.15568769 0.69020972 0.09061849 0.0634841 ]\n",
      " ...\n",
      " [0.07336947 0.82184229 0.03555683 0.06923142]\n",
      " [0.03388919 0.82972937 0.09754124 0.0388402 ]\n",
      " [0.10463544 0.25020808 0.57694168 0.0682148 ]]\n"
     ]
    }
   ],
   "source": [
    "#参考サイト\n",
    "#https://qiita.com/ground0state/items/155b77f4c07e1a509a14\n",
    "import pandas as pd\n",
    "import re\n",
    "from sklearn.model_selection import train_test_split\n",
    "from sklearn.feature_extraction.text import TfidfVectorizer\n",
    "from q51_2 import load_data\n",
    "import pickle\n",
    "#X_list:記事見出しのリスト\n",
    "#Y_list:カテゴリ名のリスト\n",
    "#def my_logistic_regression(X,Y,model):\n",
    "    \n",
    "\n",
    "    \n",
    "lr=pickle.load(open(\"my_lr.model\", 'rb'))\n",
    "test_feature=load_data(\"test.feature.txt\")\n",
    "test=load_data(\"test.txt\")\n",
    "Y_pred=lr.predict(test_feature)\n",
    "\n",
    "Y_pred_proba=lr.predict_proba(test_feature)#クラス0~3に属する確率のリスト\n",
    "print(Y_pred)\n",
    "print(Y_pred_proba)"
   ]
  },
  {
   "cell_type": "code",
   "execution_count": null,
   "metadata": {},
   "outputs": [],
   "source": []
  }
 ],
 "metadata": {
  "kernelspec": {
   "display_name": "Python 3",
   "language": "python",
   "name": "python3"
  },
  "language_info": {
   "codemirror_mode": {
    "name": "ipython",
    "version": 3
   },
   "file_extension": ".py",
   "mimetype": "text/x-python",
   "name": "python",
   "nbconvert_exporter": "python",
   "pygments_lexer": "ipython3",
   "version": "3.8.5"
  }
 },
 "nbformat": 4,
 "nbformat_minor": 4
}
