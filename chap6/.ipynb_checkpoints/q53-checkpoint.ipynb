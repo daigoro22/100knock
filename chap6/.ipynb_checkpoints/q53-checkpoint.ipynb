{
 "cells": [
  {
   "cell_type": "code",
   "execution_count": 7,
   "metadata": {
    "scrolled": false
   },
   "outputs": [
    {
     "name": "stdout",
     "output_type": "stream",
     "text": [
      "[2 2 2 ... 2 2 0]\n",
      "[[0.33484774 0.11482828 0.46233673 0.08798726]\n",
      " [0.37568449 0.12295203 0.37735631 0.12400717]\n",
      " [0.09308431 0.06759403 0.78877508 0.05054659]\n",
      " ...\n",
      " [0.01955575 0.01455686 0.95953794 0.00634945]\n",
      " [0.05342736 0.10124286 0.81362099 0.03170879]\n",
      " [0.51584357 0.18025742 0.10145908 0.20243993]]\n"
     ]
    }
   ],
   "source": [
    "#参考サイト\n",
    "#https://qiita.com/ground0state/items/155b77f4c07e1a509a14\n",
    "import pandas as pd\n",
    "import re\n",
    "from sklearn.model_selection import train_test_split\n",
    "from sklearn.feature_extraction.text import TfidfVectorizer\n",
    "import pickle\n",
    "#X_list:記事見出しのリスト\n",
    "#Y_list:カテゴリ名のリスト\n",
    "#def my_logistic_regression(X,Y,model):\n",
    "    \n",
    "\n",
    "    \n",
    "lr=pickle.load(open(\"my_lr.model\", 'rb'))\n",
    "valid_df=pd.read_table(\"valid.feature.txt\",\n",
    "                                   header=None,\n",
    "                                   sep=\"\\t\",\n",
    "                                   encoding=\"UTF-8\")\n",
    "X_valid=valid_df.drop(valid_df.columns[[len(valid_df.columns)-1]], axis=1)\n",
    "Y_valid=valid_df[len(valid_df.columns)-1]\n",
    "Y_pred=lr.predict(X_valid)\n",
    "\n",
    "Y_pred_proba=lr.predict_proba(X_valid)#クラス0~3に属する確率のリスト\n",
    "print(Y_pred)\n",
    "print(Y_pred_proba)"
   ]
  },
  {
   "cell_type": "code",
   "execution_count": null,
   "metadata": {},
   "outputs": [],
   "source": []
  }
 ],
 "metadata": {
  "kernelspec": {
   "display_name": "Python 3",
   "language": "python",
   "name": "python3"
  },
  "language_info": {
   "codemirror_mode": {
    "name": "ipython",
    "version": 3
   },
   "file_extension": ".py",
   "mimetype": "text/x-python",
   "name": "python",
   "nbconvert_exporter": "python",
   "pygments_lexer": "ipython3",
   "version": "3.8.5"
  }
 },
 "nbformat": 4,
 "nbformat_minor": 4
}
