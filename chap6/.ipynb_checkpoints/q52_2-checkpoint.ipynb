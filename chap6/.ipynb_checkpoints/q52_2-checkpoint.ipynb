{
 "cells": [
  {
   "cell_type": "code",
   "execution_count": 2,
   "metadata": {},
   "outputs": [
    {
     "name": "stdout",
     "output_type": "stream",
     "text": [
      "        0s   10   aa  abbvie  about  above  abuse  ackman  act  acting  ...  \\\n",
      "0      0.0  0.0  0.0     0.0    0.0    0.0    0.0     0.0  0.0     0.0  ...   \n",
      "1      0.0  0.0  0.0     0.0    0.0    0.0    0.0     0.0  0.0     0.0  ...   \n",
      "2      0.0  0.0  0.0     0.0    0.0    0.0    0.0     0.0  0.0     0.0  ...   \n",
      "3      0.0  0.0  0.0     0.0    0.0    0.0    0.0     0.0  0.0     0.0  ...   \n",
      "4      0.0  0.0  0.0     0.0    0.0    0.0    0.0     0.0  0.0     0.0  ...   \n",
      "...    ...  ...  ...     ...    ...    ...    ...     ...  ...     ...  ...   \n",
      "10667  0.0  0.0  0.0     0.0    0.0    0.0    0.0     0.0  0.0     0.0  ...   \n",
      "10668  0.0  0.0  0.0     0.0    0.0    0.0    0.0     0.0  0.0     0.0  ...   \n",
      "10669  0.0  0.0  0.0     0.0    0.0    0.0    0.0     0.0  0.0     0.0  ...   \n",
      "10670  0.0  0.0  0.0     0.0    0.0    0.0    0.0     0.0  0.0     0.0  ...   \n",
      "10671  0.0  0.0  0.0     0.0    0.0    0.0    0.0     0.0  0.0     0.0  ...   \n",
      "\n",
      "       yet  yield  yields  york  you  young  your  yuan  zac  zone  \n",
      "0      0.0    0.0     0.0   0.0  0.0    0.0   0.0   0.0  0.0   0.0  \n",
      "1      0.0    0.0     0.0   0.0  0.0    0.0   0.0   0.0  0.0   0.0  \n",
      "2      0.0    0.0     0.0   0.0  0.0    0.0   0.0   0.0  0.0   0.0  \n",
      "3      0.0    0.0     0.0   0.0  0.0    0.0   0.0   0.0  0.0   0.0  \n",
      "4      0.0    0.0     0.0   0.0  0.0    0.0   0.0   0.0  0.0   0.0  \n",
      "...    ...    ...     ...   ...  ...    ...   ...   ...  ...   ...  \n",
      "10667  0.0    0.0     0.0   0.0  0.0    0.0   0.0   0.0  0.0   0.0  \n",
      "10668  0.0    0.0     0.0   0.0  0.0    0.0   0.0   0.0  0.0   0.0  \n",
      "10669  0.0    0.0     0.0   0.0  0.0    0.0   0.0   0.0  0.0   0.0  \n",
      "10670  0.0    0.0     0.0   0.0  0.0    0.0   0.0   0.0  0.0   0.0  \n",
      "10671  0.0    0.0     0.0   0.0  0.0    0.0   0.0   0.0  0.0   0.0  \n",
      "\n",
      "[10672 rows x 1603 columns]\n",
      "      CATEGORY                                              TITLE\n",
      "0            b  'Dirty' American Apparel CEO will sue the comp...\n",
      "1            e                                       Who's Paddy?\n",
      "2            b  Putin says will be hard to work with Ukraine's...\n",
      "3            b  Emerging Stocks Climb to Six-Month High on Chi...\n",
      "4            b  BNP Paribas Pleads Guilty in US to Violating S...\n",
      "...        ...                                                ...\n",
      "10667        b  UPDATE 1-Philip Morris to stop cigarette produ...\n",
      "10668        e  Jon Favreau - Jon Favreau: Scarlett Johansson ...\n",
      "10669        b  The Supreme Court's Latest Greenhouse-gas Ruli...\n",
      "10670        e  Kerry Washington - Kerry Washington: Filming w...\n",
      "10671        b  Twitter Stock Surges as CEO Costolo Makes Case...\n",
      "\n",
      "[10672 rows x 2 columns]\n"
     ]
    }
   ],
   "source": [
    "import pandas as pd\n",
    "from sklearn.linear_model import LogisticRegression\n",
    "from q51_2 import load_data\n",
    "import pickle\n",
    "train_feature=load_data(\"train.feature.txt\")\n",
    "train=load_data(\"train.txt\")\n",
    "#print(train_df)\n",
    "#print(len(train_df.columns))\n",
    "#print(train_df[len(train_df.columns)-1])\n",
    "#X_train=train_df[0:len(train_df.columns)-2]#カテゴリ名を取得\n",
    "#print(X_train)\n",
    "#print(train_df.iloc[train_df.columns-1:train_df.columns])\n",
    "#print(train_feature)\n",
    "#print(train)\n",
    "lr = LogisticRegression(max_iter=1000)#インスタンスを作成、デフォルトで収束しなかったため1000とした\n",
    "lr.fit(train_feature, train[\"CATEGORY\"])#重みを学習\n",
    "\n",
    "#モデルをシリアライズして保存\n",
    "filename=\"my_lr.model\"\n",
    "pickle.dump(lr, open(filename, 'wb'))"
   ]
  },
  {
   "cell_type": "code",
   "execution_count": null,
   "metadata": {},
   "outputs": [],
   "source": []
  }
 ],
 "metadata": {
  "kernelspec": {
   "display_name": "Python 3",
   "language": "python",
   "name": "python3"
  },
  "language_info": {
   "codemirror_mode": {
    "name": "ipython",
    "version": 3
   },
   "file_extension": ".py",
   "mimetype": "text/x-python",
   "name": "python",
   "nbconvert_exporter": "python",
   "pygments_lexer": "ipython3",
   "version": "3.8.5"
  }
 },
 "nbformat": 4,
 "nbformat_minor": 4
}
