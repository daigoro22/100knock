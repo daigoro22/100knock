{
 "cells": [
  {
   "cell_type": "code",
   "execution_count": 2,
   "metadata": {},
   "outputs": [
    {
     "name": "stdout",
     "output_type": "stream",
     "text": [
      "0.6866566716641679\n"
     ]
    }
   ],
   "source": [
    "#https://zenn.dev/yagiyuki/articles/0d6f97028fdd40209b7f\n",
    "#https://qiita.com/FujiedaTaro/items/5784eda386146f1fd6e7\n",
    "import pandas as pd\n",
    "from sklearn.linear_model import LogisticRegression\n",
    "from sklearn.metrics import accuracy_score\n",
    "import pickle\n",
    "import numpy as np\n",
    "from sklearn.model_selection import RandomizedSearchCV\n",
    "\n",
    "def load_data(filename):\n",
    "    df=pd.read_table(filename,\n",
    "                                   header=None,\n",
    "                                   sep=\"\\t\",\n",
    "                                   encoding=\"UTF-8\")\n",
    "    X=df.drop(df.columns[[len(df.columns)-1]], axis=1)#特徴量の取得\n",
    "    Y=df[len(df.columns)-1]#ラベルの取得\n",
    "    return X,Y\n",
    "\n",
    "#データをロード\n",
    "X_train,Y_train=load_data(\"train.feature.txt\")\n",
    "X_valid,Y_valid=load_data(\"valid.feature.txt\")\n",
    "X_test,Y_test=load_data(\"test.feature.txt\")\n",
    "hyper_param=np.logspace(-3, 3,num=7)\n",
    "\n",
    "best_param=0\n",
    "best_accuracy=0\n",
    "\n",
    "for c in hyper_param:#10^(-3)~10^3までハイパーパラメータを変更\n",
    "    \n",
    "    lr = LogisticRegression(max_iter=1000,C=c)#ハイパーパラメータを指定して、インスタンスを作成\n",
    "    lr.fit(X_train, Y_train)#重みを学習\n",
    "    pred_valid=lr.predict(X_valid)\n",
    "    accuracy=accuracy_score(Y_valid, pred_valid)\n",
    "\n",
    "    if(best_accuracy < accuracy):#正解率が上がれば\n",
    "        #最適パラメータを更新\n",
    "        best_param=c\n",
    "        best_accuracy=accuracy\n",
    "        \n",
    "lr = LogisticRegression(max_iter=1000,C=best_param)\n",
    "lr.fit(X_train, Y_train)    \n",
    "pred_test=lr.predict(X_test)\n",
    "print(accuracy_score(Y_test, pred_test))\n"
   ]
  },
  {
   "cell_type": "code",
   "execution_count": null,
   "metadata": {},
   "outputs": [],
   "source": []
  }
 ],
 "metadata": {
  "kernelspec": {
   "display_name": "Python 3",
   "language": "python",
   "name": "python3"
  },
  "language_info": {
   "codemirror_mode": {
    "name": "ipython",
    "version": 3
   },
   "file_extension": ".py",
   "mimetype": "text/x-python",
   "name": "python",
   "nbconvert_exporter": "python",
   "pygments_lexer": "ipython3",
   "version": "3.8.5"
  }
 },
 "nbformat": 4,
 "nbformat_minor": 4
}
