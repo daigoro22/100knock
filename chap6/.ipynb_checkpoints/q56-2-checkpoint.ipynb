{
 "cells": [
  {
   "cell_type": "code",
   "execution_count": 1,
   "metadata": {
    "scrolled": false
   },
   "outputs": [
    {
     "name": "stdout",
     "output_type": "stream",
     "text": [
      "              precision    recall  f1-score   support\n",
      "\n",
      "           b       0.84      0.93      0.89       562\n",
      "           e       0.86      0.94      0.90       528\n",
      "           m       0.86      0.53      0.65        91\n",
      "           t       0.87      0.43      0.58       153\n",
      "\n",
      "    accuracy                           0.85      1334\n",
      "   macro avg       0.86      0.71      0.75      1334\n",
      "weighted avg       0.85      0.85      0.84      1334\n",
      "\n"
     ]
    }
   ],
   "source": [
    "#参考サイト\n",
    "#https://qiita.com/ground0state/items/155b77f4c07e1a509a14\n",
    "import pandas as pd\n",
    "import re\n",
    "import pickle\n",
    "from sklearn.metrics import confusion_matrix\n",
    "import seaborn as sns\n",
    "import matplotlib.pyplot as plt\n",
    "from sklearn.metrics import classification_report\n",
    "from q51_2 import load_data\n",
    "\n",
    "lr=pickle.load(open(\"my_lr.model\", 'rb'))\n",
    "test_feature=load_data(\"test.feature.txt\")\n",
    "test=load_data(\"test.txt\")\n",
    "pred_test=lr.predict(test_feature)\n",
    "print(classification_report(test[\"CATEGORY\"], pred_test))"
   ]
  },
  {
   "cell_type": "code",
   "execution_count": null,
   "metadata": {},
   "outputs": [],
   "source": []
  }
 ],
 "metadata": {
  "kernelspec": {
   "display_name": "Python 3",
   "language": "python",
   "name": "python3"
  },
  "language_info": {
   "codemirror_mode": {
    "name": "ipython",
    "version": 3
   },
   "file_extension": ".py",
   "mimetype": "text/x-python",
   "name": "python",
   "nbconvert_exporter": "python",
   "pygments_lexer": "ipython3",
   "version": "3.8.5"
  }
 },
 "nbformat": 4,
 "nbformat_minor": 4
}
