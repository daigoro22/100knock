{
 "cells": [
  {
   "cell_type": "code",
   "execution_count": 1,
   "metadata": {},
   "outputs": [
    {
     "name": "stdout",
     "output_type": "stream",
     "text": [
      "0.905359820089955\n",
      "0.8508245877061469\n"
     ]
    }
   ],
   "source": [
    "#参考サイト\n",
    "#https://qiita.com/ground0state/items/155b77f4c07e1a509a14\n",
    "import pandas as pd\n",
    "import re\n",
    "from sklearn.model_selection import train_test_split\n",
    "from sklearn.feature_extraction.text import TfidfVectorizer\n",
    "import pickle\n",
    "from sklearn.metrics import accuracy_score\n",
    "from q51_2 import load_data\n",
    "#X_list:記事見出しのリスト\n",
    "#Y_list:カテゴリ名のリスト\n",
    "#def my_logistic_regression(X,Y,model):\n",
    "\n",
    "lr=pickle.load(open(\"my_lr.model\", 'rb'))\n",
    "\n",
    "train_feature=load_data(\"train.feature.txt\")\n",
    "test_feature=load_data(\"test.feature.txt\")\n",
    "train=load_data(\"train.txt\")\n",
    "test=load_data(\"test.txt\")\n",
    "#学習データの取得\n",
    "#train_df=pd.read_table(\"test.feature.txt\",\n",
    "#                                   header=None,\n",
    "#                                   sep=\"\\t\",\n",
    "#                                   encoding=\"UTF-8\")\n",
    "#X_train=train_df.drop(train_df.columns[[len(train_df.columns)-1]], axis=1)#特徴量の取得\n",
    "#Y_test=train_df[len(train_df.columns)-1]#ラベルの取得\n",
    "\n",
    "pred_train=lr.predict(train_feature)\n",
    "pred_test=lr.predict(test_feature)\n",
    "#print(pred_train)\n",
    "#print(Y_train)\n",
    "#print(pred_test)\n",
    "#print(Y_test)\n",
    "print(accuracy_score(train[\"CATEGORY\"], pred_train))#学習データ上での正解率を表示\n",
    "print(accuracy_score(test[\"CATEGORY\"], pred_test))#評価データ上での正解率を表示"
   ]
  },
  {
   "cell_type": "code",
   "execution_count": null,
   "metadata": {},
   "outputs": [],
   "source": []
  }
 ],
 "metadata": {
  "kernelspec": {
   "display_name": "Python 3",
   "language": "python",
   "name": "python3"
  },
  "language_info": {
   "codemirror_mode": {
    "name": "ipython",
    "version": 3
   },
   "file_extension": ".py",
   "mimetype": "text/x-python",
   "name": "python",
   "nbconvert_exporter": "python",
   "pygments_lexer": "ipython3",
   "version": "3.8.5"
  }
 },
 "nbformat": 4,
 "nbformat_minor": 4
}
