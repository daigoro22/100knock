{
 "cells": [
  {
   "cell_type": "code",
   "execution_count": 3,
   "metadata": {
    "scrolled": true
   },
   "outputs": [
    {
     "name": "stderr",
     "output_type": "stream",
     "text": [
      "/Users/takumi/opt/anaconda3/lib/python3.8/site-packages/sklearn/linear_model/_logistic.py:762: ConvergenceWarning: lbfgs failed to converge (status=1):\n",
      "STOP: TOTAL NO. of ITERATIONS REACHED LIMIT.\n",
      "\n",
      "Increase the number of iterations (max_iter) or scale the data as shown in:\n",
      "    https://scikit-learn.org/stable/modules/preprocessing.html\n",
      "Please also refer to the documentation for alternative solver options:\n",
      "    https://scikit-learn.org/stable/modules/linear_model.html#logistic-regression\n",
      "  n_iter_i = _check_optimize_result(\n"
     ]
    },
    {
     "name": "stdout",
     "output_type": "stream",
     "text": [
      "最適パラメータ:10.0\n",
      "最高正解率:0.8673163418290855\n"
     ]
    }
   ],
   "source": [
    "#https://zenn.dev/yagiyuki/articles/0d6f97028fdd40209b7f\n",
    "#https://qiita.com/FujiedaTaro/items/5784eda386146f1fd6e7\n",
    "import pandas as pd\n",
    "from sklearn.linear_model import LogisticRegression\n",
    "from sklearn.metrics import accuracy_score\n",
    "import pickle\n",
    "import numpy as np\n",
    "from sklearn.model_selection import RandomizedSearchCV\n",
    "from q51_2 import load_data\n",
    "\n",
    "\n",
    "#データをロード\n",
    "X_train=load_data(\"train.feature.txt\")\n",
    "X_valid=load_data(\"valid.feature.txt\")\n",
    "X_test=load_data(\"test.feature.txt\")\n",
    "Y_train=load_data(\"train.txt\")[\"CATEGORY\"]\n",
    "Y_valid=load_data(\"valid.txt\")[\"CATEGORY\"]\n",
    "Y_test=load_data(\"test.txt\")[\"CATEGORY\"]\n",
    "hyper_param=np.logspace(-3, 3,num=7)\n",
    "\n",
    "best_param=0\n",
    "best_accuracy=0\n",
    "\n",
    "for c in hyper_param:#10^(-3)~10^3までハイパーパラメータを変更\n",
    "    \n",
    "    lr = LogisticRegression(max_iter=1000,C=c)#ハイパーパラメータを指定して、インスタンスを作成\n",
    "    lr.fit(X_train, Y_train)#重みを学習\n",
    "    pred_valid=lr.predict(X_valid)\n",
    "    accuracy=accuracy_score(Y_valid, pred_valid)\n",
    "\n",
    "    if(best_accuracy < accuracy):#正解率が上がれば\n",
    "        #最適パラメータを更新\n",
    "        best_param=c\n",
    "        best_accuracy=accuracy\n",
    "        \n",
    "lr = LogisticRegression(max_iter=2000,C=best_param)\n",
    "lr.fit(X_train, Y_train)\n",
    "pred_test=lr.predict(X_test)\n",
    "print(f\"最適パラメータ:{best_param}\")\n",
    "print(f\"最高正解率:{accuracy_score(Y_test, pred_test)}\")\n"
   ]
  },
  {
   "cell_type": "code",
   "execution_count": null,
   "metadata": {},
   "outputs": [],
   "source": []
  }
 ],
 "metadata": {
  "kernelspec": {
   "display_name": "Python 3",
   "language": "python",
   "name": "python3"
  },
  "language_info": {
   "codemirror_mode": {
    "name": "ipython",
    "version": 3
   },
   "file_extension": ".py",
   "mimetype": "text/x-python",
   "name": "python",
   "nbconvert_exporter": "python",
   "pygments_lexer": "ipython3",
   "version": "3.8.5"
  }
 },
 "nbformat": 4,
 "nbformat_minor": 4
}
