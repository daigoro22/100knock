{
 "cells": [
  {
   "cell_type": "code",
   "execution_count": 19,
   "metadata": {
    "scrolled": false
   },
   "outputs": [
    {
     "name": "stdout",
     "output_type": "stream",
     "text": [
      "Index(['about', 'after', 'and', 'are', 'as', 'at', 'bank', 'be', 'before',\n",
      "       'bln', 'but', 'buy', 'by', 'ceo', 'china', 'could', 'cyrus', 'data',\n",
      "       'day', 'deal', 'down', 'ecb', 'euro', 'falls', 'fed', 'first', 'for',\n",
      "       'from', 'global', 'google', 'growth', 'has', 'have', 'he', 'her',\n",
      "       'high', 'his', 'home', 'in', 'into', 'is', 'it', 'its', 'kardashian',\n",
      "       'kim', 'low', 'may', 'miley', 'more', 'new', 'no', 'not', 'of', 'off',\n",
      "       'oil', 'on', 'out', 'over', 'profit', 'report', 'rise', 'rises',\n",
      "       'sales', 'says', 'set', 'shares', 'she', 'show', 'shows', 'st', 'star',\n",
      "       'stocks', 'than', 'that', 'the', 'this', 'time', 'to', 'ukraine', 'up',\n",
      "       'update', 'us', 'video', 'was', 'wedding', 'west', 'who', 'will',\n",
      "       'with', 'you', 'CATEGORY'],\n",
      "      dtype='object')\n",
      "class:0\n",
      "上位1:video\n",
      "上位2:star\n",
      "上位3:her\n",
      "上位4:she\n",
      "上位5:you\n",
      "上位6:have\n",
      "上位7:west\n",
      "上位8:the\n",
      "上位9:show\n",
      "上位10:and\n",
      "class:1\n",
      "上位1:her\n",
      "上位2:stocks\n",
      "上位3:west\n",
      "上位4:shares\n",
      "上位5:fed\n",
      "上位6:his\n",
      "上位7:st\n",
      "上位8:home\n",
      "上位9:ukraine\n",
      "上位10:ecb\n",
      "class:2\n",
      "上位1:google\n",
      "上位2:data\n",
      "上位3:us\n",
      "上位4:china\n",
      "上位5:buy\n",
      "上位6:ceo\n",
      "上位7:oil\n",
      "上位8:sales\n",
      "上位9:bln\n",
      "上位10:global\n",
      "class:3\n",
      "上位1:ceo\n",
      "上位2:deal\n",
      "上位3:set\n",
      "上位4:profit\n",
      "上位5:china\n",
      "上位6:sales\n",
      "上位7:bank\n",
      "上位8:ecb\n",
      "上位9:kardashian\n",
      "上位10:euro\n"
     ]
    }
   ],
   "source": [
    "#参考サイト\n",
    "#https://qiita.com/ground0state/items/155b77f4c07e1a509a14\n",
    "import pandas as pd\n",
    "import re\n",
    "import pickle\n",
    "from sklearn.metrics import confusion_matrix\n",
    "import seaborn as sns\n",
    "import matplotlib.pyplot as plt\n",
    "from sklearn.metrics import classification_report\n",
    "#X_list:記事見出しのリスト\n",
    "#Y_list:カテゴリ名のリスト\n",
    "#def my_logistic_regression(X,Y,model):\n",
    "lr=pickle.load(open(\"my_lr.model\", 'rb'))\n",
    "df=pd.read_table(\"tmp.txt\",#評価データにヘッダを付けたもの\n",
    "                                   sep=\"\\t\",\n",
    "                                   encoding=\"UTF-8\")\n",
    "#print(df.columns)\n",
    "\n",
    "#クラス名と特徴量を取得\n",
    "for cl,coef in zip(lr.classes_,lr.coef_):\n",
    "    #print(len(coef))\n",
    "    #print(coef)\n",
    "    sorted_index=coef.argsort()\n",
    "    print(f\"class:{cl}\")\n",
    "    for i in range (0,10):\n",
    "        print(f\"上位{i+1}:\"+df.columns[sorted_index[i]])"
   ]
  },
  {
   "cell_type": "code",
   "execution_count": null,
   "metadata": {},
   "outputs": [],
   "source": []
  }
 ],
 "metadata": {
  "kernelspec": {
   "display_name": "Python 3",
   "language": "python",
   "name": "python3"
  },
  "language_info": {
   "codemirror_mode": {
    "name": "ipython",
    "version": 3
   },
   "file_extension": ".py",
   "mimetype": "text/x-python",
   "name": "python",
   "nbconvert_exporter": "python",
   "pygments_lexer": "ipython3",
   "version": "3.8.5"
  }
 },
 "nbformat": 4,
 "nbformat_minor": 4
}
