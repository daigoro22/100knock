{
 "cells": [
  {
   "cell_type": "code",
   "execution_count": 6,
   "metadata": {
    "scrolled": false
   },
   "outputs": [],
   "source": [
    "import pandas as pd\n",
    "from sklearn.model_selection import train_test_split\n",
    "#カンマ区切りはread_csv()、タブ区切りはread_tabel()を使用\n",
    "df = pd.read_table(\"newsCorpora.csv\",\n",
    "                                   header=None,\n",
    "                                   names=(\"ID\",\"TITLE\",\"URL\",\"PUBLISHER\",\"CATEGORY\",\"STORY\",\"HOSTNAME\",\"TIME\"),\n",
    "                                   sep=\"\\t\",\n",
    "                                   encoding=\"UTF-8\")\n",
    "instance=df.query(\"PUBLISHER in ['Reuters','Huffington Post','Businessweek','Contactmusic.com','Daily Mail']\")\n",
    "instance_loc=instance.loc[:,[\"CATEGORY\",\"TITLE\"]]\n",
    "#print(instance)\n",
    "train,valid=train_test_split(instance_loc,test_size=0.20)#訓練データと検証データに分割\n",
    "valid,test=train_test_split(valid,test_size=0.25)#検証データを、検証データと評価データに再分割\n",
    "\n",
    "#余分なものをつけずに出力\n",
    "train.to_csv(\"train.txt\", sep=\"\\t\",header=False,index=False)\n",
    "valid.to_csv(\"valid.txt\", sep=\"\\t\",header=False,index=False)\n",
    "test.to_csv(\"test.txt\", sep=\"\\t\",header=False,index=False)\n",
    "\n",
    "#print(valid)\n",
    "#print(df.query(\"PUBLISHER in ['Reuters','Huffington Post','Businessweek','Contactmusic.com','Daily Mail']\"))\n",
    "#ID タイトル URL 情報元 カテゴリ  ストーリー URLホスト名 日付"
   ]
  },
  {
   "cell_type": "code",
   "execution_count": null,
   "metadata": {},
   "outputs": [],
   "source": []
  }
 ],
 "metadata": {
  "kernelspec": {
   "display_name": "Python 3",
   "language": "python",
   "name": "python3"
  },
  "language_info": {
   "codemirror_mode": {
    "name": "ipython",
    "version": 3
   },
   "file_extension": ".py",
   "mimetype": "text/x-python",
   "name": "python",
   "nbconvert_exporter": "python",
   "pygments_lexer": "ipython3",
   "version": "3.8.5"
  }
 },
 "nbformat": 4,
 "nbformat_minor": 4
}
