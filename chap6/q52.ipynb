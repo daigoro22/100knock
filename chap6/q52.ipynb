{
 "cells": [
  {
   "cell_type": "code",
   "execution_count": 1,
   "metadata": {},
   "outputs": [
    {
     "name": "stdout",
     "output_type": "stream",
     "text": [
      "       0     1     2     3     4         5     6         7     8     9     \\\n",
      "0       0.0   0.0   0.0   0.0   0.0  0.376953   0.0  0.000000   0.0   0.0   \n",
      "1       0.0   0.0   0.0   0.0   0.0  0.000000   0.0  0.000000   0.0   0.0   \n",
      "2       0.0   0.0   0.0   0.0   0.0  0.202833   0.0  0.293297   0.0   0.0   \n",
      "3       0.0   0.0   0.0   0.0   0.0  0.000000   0.0  0.000000   0.0   0.0   \n",
      "4       0.0   0.0   0.0   0.0   0.0  0.000000   0.0  0.000000   0.0   0.0   \n",
      "...     ...   ...   ...   ...   ...       ...   ...       ...   ...   ...   \n",
      "10667   0.0   0.0   0.0   0.0   0.0  0.000000   0.0  0.000000   0.0   0.0   \n",
      "10668   0.0   0.0   0.0   0.0   0.0  0.000000   0.0  0.000000   0.0   0.0   \n",
      "10669   0.0   0.0   0.0   0.0   0.0  0.000000   0.0  0.000000   0.0   0.0   \n",
      "10670   0.0   0.0   0.0   0.0   0.0  0.000000   0.0  0.000000   0.0   0.0   \n",
      "10671   0.0   0.0   0.0   0.0   0.0  0.000000   0.0  0.000000   0.0   0.0   \n",
      "\n",
      "       ...  1654  1655  1656  1657  1658  1659  1660  1661      1662  1663  \n",
      "0      ...   0.0   0.0   0.0   0.0   0.0   0.0   0.0   0.0  0.000000     2  \n",
      "1      ...   0.0   0.0   0.0   0.0   0.0   0.0   0.0   0.0  0.000000     0  \n",
      "2      ...   0.0   0.0   0.0   0.0   0.0   0.0   0.0   0.0  0.000000     2  \n",
      "3      ...   0.0   0.0   0.0   0.0   0.0   0.0   0.0   0.0  0.000000     0  \n",
      "4      ...   0.0   0.0   0.0   0.0   0.0   0.0   0.0   0.0  0.000000     0  \n",
      "...    ...   ...   ...   ...   ...   ...   ...   ...   ...       ...   ...  \n",
      "10667  ...   0.0   0.0   0.0   0.0   0.0   0.0   0.0   0.0  0.000000     1  \n",
      "10668  ...   0.0   0.0   0.0   0.0   0.0   0.0   0.0   0.0  0.000000     1  \n",
      "10669  ...   0.0   0.0   0.0   0.0   0.0   0.0   0.0   0.0  0.000000     3  \n",
      "10670  ...   0.0   0.0   0.0   0.0   0.0   0.0   0.0   0.0  0.358507     0  \n",
      "10671  ...   0.0   0.0   0.0   0.0   0.0   0.0   0.0   0.0  0.000000     1  \n",
      "\n",
      "[10672 rows x 1663 columns]\n",
      "0        2\n",
      "1        0\n",
      "2        2\n",
      "3        0\n",
      "4        0\n",
      "        ..\n",
      "10667    1\n",
      "10668    1\n",
      "10669    3\n",
      "10670    0\n",
      "10671    1\n",
      "Name: 1663, Length: 10672, dtype: int64\n"
     ]
    }
   ],
   "source": [
    "import pandas as pd\n",
    "from sklearn.linear_model import LogisticRegression\n",
    "import pickle\n",
    "train_df=pd.read_table(\"train.feature.txt\",\n",
    "                                   header=None,\n",
    "                                   sep=\"\\t\",\n",
    "                                   encoding=\"UTF-8\")\n",
    "#print(train_df)\n",
    "#print(len(train_df.columns))\n",
    "#print(train_df[len(train_df.columns)-1])\n",
    "X_train=train_df.drop(train_df.columns[[90]], axis=1)\n",
    "Y_train=train_df[len(train_df.columns)-1]#特徴量を取得\n",
    "#X_train=train_df[0:len(train_df.columns)-2]#カテゴリ名を取得\n",
    "#print(X_train)\n",
    "#print(train_df.iloc[train_df.columns-1:train_df.columns])\n",
    "print(X_train)\n",
    "print(Y_train)\n",
    "lr = LogisticRegression(max_iter=1000)#インスタンスを作成、デフォルトで収束しなかったため1000とした\n",
    "lr.fit(X_train, Y_train)#重みを学習\n",
    "\n",
    "#モデルをシリアライズして保存\n",
    "filename=\"my_lr.model\"\n",
    "pickle.dump(lr, open(filename, 'wb'))"
   ]
  },
  {
   "cell_type": "code",
   "execution_count": null,
   "metadata": {},
   "outputs": [],
   "source": []
  }
 ],
 "metadata": {
  "kernelspec": {
   "display_name": "Python 3",
   "language": "python",
   "name": "python3"
  },
  "language_info": {
   "codemirror_mode": {
    "name": "ipython",
    "version": 3
   },
   "file_extension": ".py",
   "mimetype": "text/x-python",
   "name": "python",
   "nbconvert_exporter": "python",
   "pygments_lexer": "ipython3",
   "version": "3.8.5"
  }
 },
 "nbformat": 4,
 "nbformat_minor": 4
}
