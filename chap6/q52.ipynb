{
 "cells": [
  {
   "cell_type": "code",
   "execution_count": 2,
   "metadata": {},
   "outputs": [
    {
     "name": "stdout",
     "output_type": "stream",
     "text": [
      "        0    1         2    3         4        5    6    7    8    9   ...  \\\n",
      "0      0.0  0.0  0.000000  0.0  0.000000  0.00000  0.0  0.0  0.0  0.0  ...   \n",
      "1      0.0  0.0  0.000000  0.0  0.000000  0.00000  0.0  0.0  0.0  0.0  ...   \n",
      "2      0.0  0.0  0.000000  0.0  0.000000  0.00000  0.0  0.0  0.0  0.0  ...   \n",
      "3      0.0  0.0  0.000000  0.0  0.000000  0.00000  0.0  0.0  0.0  0.0  ...   \n",
      "4      0.0  0.0  0.641695  0.0  0.000000  0.00000  0.0  0.0  0.0  0.0  ...   \n",
      "...    ...  ...       ...  ...       ...      ...  ...  ...  ...  ...  ...   \n",
      "10667  0.0  0.0  0.000000  0.0  0.000000  0.00000  0.0  0.0  0.0  0.0  ...   \n",
      "10668  0.0  0.0  0.000000  0.0  0.000000  0.67419  0.0  0.0  0.0  0.0  ...   \n",
      "10669  0.0  0.0  0.000000  0.0  0.000000  0.00000  0.0  0.0  0.0  0.0  ...   \n",
      "10670  0.0  0.0  0.000000  0.0  0.000000  0.00000  0.0  0.0  0.0  0.0  ...   \n",
      "10671  0.0  0.0  0.000000  0.0  0.484721  0.00000  0.0  0.0  0.0  0.0  ...   \n",
      "\n",
      "             80        81   82   83   84   85   86   87        88   89  \n",
      "0      0.517365  0.000000  0.0  0.0  0.0  0.0  0.0  0.0  0.566485  0.0  \n",
      "1      0.000000  0.000000  0.0  0.0  0.0  0.0  0.0  0.0  0.000000  0.0  \n",
      "2      0.000000  0.000000  0.0  0.0  0.0  0.0  0.0  0.0  0.000000  0.0  \n",
      "3      0.000000  0.000000  0.0  0.0  0.0  0.0  0.0  0.0  0.000000  0.0  \n",
      "4      0.000000  0.000000  0.0  0.0  0.0  0.0  0.0  0.0  0.000000  0.0  \n",
      "...         ...       ...  ...  ...  ...  ...  ...  ...       ...  ...  \n",
      "10667  0.281269  0.282591  0.0  0.0  0.0  0.0  0.0  0.0  0.000000  0.0  \n",
      "10668  0.000000  0.600450  0.0  0.0  0.0  0.0  0.0  0.0  0.000000  0.0  \n",
      "10669  0.000000  0.000000  0.0  0.0  0.0  0.0  0.0  0.0  0.000000  0.0  \n",
      "10670  0.000000  0.000000  0.0  0.0  0.0  0.0  0.0  0.0  0.000000  0.0  \n",
      "10671  0.000000  0.000000  0.0  0.0  0.0  0.0  0.0  0.0  0.000000  0.0  \n",
      "\n",
      "[10672 rows x 90 columns]\n",
      "0        0\n",
      "1        2\n",
      "2        2\n",
      "3        2\n",
      "4        2\n",
      "        ..\n",
      "10667    0\n",
      "10668    0\n",
      "10669    2\n",
      "10670    2\n",
      "10671    0\n",
      "Name: 90, Length: 10672, dtype: int64\n"
     ]
    }
   ],
   "source": [
    "import pandas as pd\n",
    "from sklearn.linear_model import LogisticRegression\n",
    "import pickle\n",
    "train_df=pd.read_table(\"train.feature.txt\",\n",
    "                                   header=None,\n",
    "                                   sep=\"\\t\",\n",
    "                                   encoding=\"UTF-8\")\n",
    "#print(train_df)\n",
    "#print(len(train_df.columns))\n",
    "#print(train_df[len(train_df.columns)-1])\n",
    "X_train=train_df.drop(train_df.columns[[90]], axis=1)\n",
    "Y_train=train_df[len(train_df.columns)-1]#特徴量を取得\n",
    "#X_train=train_df[0:len(train_df.columns)-2]#カテゴリ名を取得\n",
    "#print(X_train)\n",
    "#print(train_df.iloc[train_df.columns-1:train_df.columns])\n",
    "print(X_train)\n",
    "print(Y_train)\n",
    "lr = LogisticRegression(max_iter=1000)#インスタンスを作成、デフォルトで収束しなかったため1000とした\n",
    "lr.fit(X_train, Y_train)#重みを学習\n",
    "\n",
    "#モデルをシリアライズして保存\n",
    "filename=\"my_lr.model\"\n",
    "pickle.dump(lr, open(filename, 'wb'))"
   ]
  },
  {
   "cell_type": "code",
   "execution_count": null,
   "metadata": {},
   "outputs": [],
   "source": []
  }
 ],
 "metadata": {
  "kernelspec": {
   "display_name": "Python 3",
   "language": "python",
   "name": "python3"
  },
  "language_info": {
   "codemirror_mode": {
    "name": "ipython",
    "version": 3
   },
   "file_extension": ".py",
   "mimetype": "text/x-python",
   "name": "python",
   "nbconvert_exporter": "python",
   "pygments_lexer": "ipython3",
   "version": "3.8.5"
  }
 },
 "nbformat": 4,
 "nbformat_minor": 4
}
