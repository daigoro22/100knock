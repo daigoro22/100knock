{
 "cells": [
  {
   "cell_type": "code",
   "execution_count": 1,
   "metadata": {
    "scrolled": false
   },
   "outputs": [
    {
     "name": "stdout",
     "output_type": "stream",
     "text": [
      "[0 0 0 ... 0 0 0]\n",
      "[[9.96148921e-01 3.85106868e-03 1.05674947e-08 4.07249176e-19]\n",
      " [9.96808171e-01 3.19181972e-03 9.58314875e-09 3.78849104e-19]\n",
      " [9.96547571e-01 3.45241937e-03 9.27571186e-09 3.88209033e-19]\n",
      " ...\n",
      " [9.96905695e-01 3.09429615e-03 9.34838242e-09 3.80592920e-19]\n",
      " [9.97007825e-01 2.99216788e-03 7.05902666e-09 3.76169249e-19]\n",
      " [9.96301976e-01 3.69801595e-03 8.21806078e-09 4.03348461e-19]]\n"
     ]
    }
   ],
   "source": [
    "#参考サイト\n",
    "#https://qiita.com/ground0state/items/155b77f4c07e1a509a14\n",
    "import pandas as pd\n",
    "import re\n",
    "from sklearn.model_selection import train_test_split\n",
    "from sklearn.feature_extraction.text import TfidfVectorizer\n",
    "import pickle\n",
    "#X_list:記事見出しのリスト\n",
    "#Y_list:カテゴリ名のリスト\n",
    "#def my_logistic_regression(X,Y,model):\n",
    "    \n",
    "\n",
    "    \n",
    "lr=pickle.load(open(\"my_lr.model\", 'rb'))\n",
    "valid_df=pd.read_table(\"valid.feature.txt\",\n",
    "                                   header=None,\n",
    "                                   sep=\"\\t\",\n",
    "                                   encoding=\"UTF-8\")\n",
    "X_valid=valid_df.drop(valid_df.columns[[len(valid_df.columns)-1]], axis=1)\n",
    "Y_valid=valid_df[len(valid_df.columns)-1]\n",
    "Y_pred=lr.predict(X_valid)\n",
    "\n",
    "Y_pred_proba=lr.predict_proba(X_valid)#クラス0~3に属する確率のリスト\n",
    "print(Y_pred)\n",
    "print(Y_pred_proba)"
   ]
  },
  {
   "cell_type": "code",
   "execution_count": null,
   "metadata": {},
   "outputs": [],
   "source": []
  }
 ],
 "metadata": {
  "kernelspec": {
   "display_name": "Python 3",
   "language": "python",
   "name": "python3"
  },
  "language_info": {
   "codemirror_mode": {
    "name": "ipython",
    "version": 3
   },
   "file_extension": ".py",
   "mimetype": "text/x-python",
   "name": "python",
   "nbconvert_exporter": "python",
   "pygments_lexer": "ipython3",
   "version": "3.8.5"
  }
 },
 "nbformat": 4,
 "nbformat_minor": 4
}
