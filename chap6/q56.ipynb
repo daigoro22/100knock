{
 "cells": [
  {
   "cell_type": "code",
   "execution_count": 1,
   "metadata": {
    "scrolled": false
   },
   "outputs": [
    {
     "name": "stdout",
     "output_type": "stream",
     "text": [
      "              precision    recall  f1-score   support\n",
      "\n",
      "           0       0.79      0.76      0.78       314\n",
      "           1       0.56      0.07      0.13        70\n",
      "           2       0.61      0.87      0.72       239\n",
      "           3       0.44      0.09      0.15        44\n",
      "\n",
      "    accuracy                           0.69       667\n",
      "   macro avg       0.60      0.45      0.44       667\n",
      "weighted avg       0.68      0.69      0.65       667\n",
      "\n"
     ]
    }
   ],
   "source": [
    "#参考サイト\n",
    "#https://qiita.com/ground0state/items/155b77f4c07e1a509a14\n",
    "import pandas as pd\n",
    "import re\n",
    "import pickle\n",
    "from sklearn.metrics import confusion_matrix\n",
    "import seaborn as sns\n",
    "import matplotlib.pyplot as plt\n",
    "from sklearn.metrics import classification_report\n",
    "#X_list:記事見出しのリスト\n",
    "#Y_list:カテゴリ名のリスト\n",
    "#def my_logistic_regression(X,Y,model):\n",
    "    \n",
    "def load_data(filename):\n",
    "    df=pd.read_table(filename,\n",
    "                                   header=None,\n",
    "                                   sep=\"\\t\",\n",
    "                                   encoding=\"UTF-8\")\n",
    "    X=df.drop(df.columns[[len(df.columns)-1]], axis=1)#特徴量の取得\n",
    "    Y=df[len(df.columns)-1]#ラベルの取得\n",
    "    return X,Y\n",
    "\n",
    "lr=pickle.load(open(\"my_lr.model\", 'rb'))\n",
    "X_test,Y_test=load_data(\"test.feature.txt\")\n",
    "\n",
    "pred_test=lr.predict(X_test)\n",
    "print(classification_report(Y_test, pred_test))"
   ]
  }
 ],
 "metadata": {
  "kernelspec": {
   "display_name": "Python 3",
   "language": "python",
   "name": "python3"
  },
  "language_info": {
   "codemirror_mode": {
    "name": "ipython",
    "version": 3
   },
   "file_extension": ".py",
   "mimetype": "text/x-python",
   "name": "python",
   "nbconvert_exporter": "python",
   "pygments_lexer": "ipython3",
   "version": "3.8.5"
  }
 },
 "nbformat": 4,
 "nbformat_minor": 4
}
