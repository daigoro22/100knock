{
 "cells": [
  {
   "cell_type": "code",
   "execution_count": 6,
   "metadata": {},
   "outputs": [
    {
     "name": "stdout",
     "output_type": "stream",
     "text": [
      "45.06750632106114\n"
     ]
    }
   ],
   "source": [
    "import sacrebleu\n",
    "# refs = [['The dog bit the man.', 'It was not unexpected.', 'The man bit him first.'],\n",
    "#         ['The dog had bit the man.', 'No one was surprised.', 'The man had bitten the dog.']]\n",
    "# refs = [['The dog bit the man.', \"It wasn't surprising.\", 'The man had just bitten him.'],\n",
    "#             ['The dog bit the man.', \"It wasn't surprising.\", 'The man had just bitten him.']]\n",
    "refs = [[\"The dog bit the man.\", \"It was not unexpected.\", \"The man bit him first.\"]]\n",
    "sys = [\"The dog bit the man.\", \"It wasn't surprising.\", \"The man had just bitten him.\"]\n",
    "bleu = sacrebleu.corpus_bleu(sys, refs)\n",
    "print(bleu.score)"
   ]
  },
  {
   "cell_type": "code",
   "execution_count": null,
   "metadata": {},
   "outputs": [],
   "source": []
  },
  {
   "cell_type": "code",
   "execution_count": null,
   "metadata": {},
   "outputs": [],
   "source": []
  }
 ],
 "metadata": {
  "kernelspec": {
   "display_name": "Python 3",
   "language": "python",
   "name": "python3"
  },
  "language_info": {
   "codemirror_mode": {
    "name": "ipython",
    "version": 3
   },
   "file_extension": ".py",
   "mimetype": "text/x-python",
   "name": "python",
   "nbconvert_exporter": "python",
   "pygments_lexer": "ipython3",
   "version": "3.8.5"
  }
 },
 "nbformat": 4,
 "nbformat_minor": 4
}
